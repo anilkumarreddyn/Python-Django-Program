{
 "cells": [
  {
   "cell_type": "markdown",
   "metadata": {},
   "source": [
    "1. Keyword density is a foundational aspect of on-page SEO. When used correctly, it can help attract search engines and boost a page’s visibility on search engine results pages (SERPs).\n",
    "\n",
    "Formula to calculate the keyword density :\n",
    "\n",
    "keyword density = Number of times the target keyword appears / Number of words on a webpage\n",
    "= Keyword density\n",
    "\n",
    "eg : 20 (Number of times “project management” appears on the page) / 1,000 (Number of words on the webpage) = 2% (Keyword density)\n",
    "\n",
    "    - Write a program to find out 10 words with highest keyword density from a given text file.\n",
    "    - Given a set of keywords calulate the keyword density for the same."
   ]
  },
  {
   "cell_type": "code",
   "execution_count": null,
   "metadata": {},
   "outputs": [],
   "source": [
    "Keyword Density : \n",
    "    -target keyword : count(artificial intelligence)\n",
    "    -total no of words in the file     "
   ]
  },
  {
   "cell_type": "code",
   "execution_count": 24,
   "metadata": {},
   "outputs": [
    {
     "name": "stdout",
     "output_type": "stream",
     "text": [
      "Total number of words in this file 604\n",
      "0.008278145695364239\n"
     ]
    }
   ],
   "source": [
    "import re\n",
    "fp = open(\"blog.txt\",\"r\",encoding=\"utf-8\")\n",
    "raw_content = fp.read()\n",
    "\n",
    "words = re.compile(\"[a-zA-Z’]+\")\n",
    "all_words = re.findall(words,raw_content.lower())\n",
    "# print(all_words)\n",
    "all_words_count = len(all_words)\n",
    "\n",
    "print(\"Total number of words in this file {}\".format(all_words_count))\n",
    "\n",
    "target_keyword = \"Artificial Intelligence\".lower()\n",
    "target_keyword_count = raw_content.count(target_keyword)\n",
    "keyword_density = target_keyword_count / all_words_count\n",
    "print(keyword_density)\n",
    "fp.close()"
   ]
  },
  {
   "cell_type": "code",
   "execution_count": 22,
   "metadata": {},
   "outputs": [
    {
     "name": "stdout",
     "output_type": "stream",
     "text": [
      "['we’re']\n"
     ]
    }
   ],
   "source": [
    "s = \"we’re\"\n",
    "words = re.compile(\"[a-zA-Z’]+\")\n",
    "all_words = re.findall(words,s)\n",
    "print(all_words)"
   ]
  },
  {
   "cell_type": "code",
   "execution_count": 19,
   "metadata": {},
   "outputs": [
    {
     "name": "stdout",
     "output_type": "stream",
     "text": [
      "[('and', 0.03934426229508197), ('the', 0.03770491803278689), ('of', 0.03442622950819672), ('to', 0.03278688524590164), ('a', 0.03114754098360656), ('ai', 0.02459016393442623), ('is', 0.022950819672131147), ('it', 0.021311475409836064), ('learning', 0.018032786885245903), ('that', 0.01639344262295082)]\n"
     ]
    }
   ],
   "source": [
    "import re\n",
    "fp = open(\"blog.txt\",\"r\",encoding=\"utf-8\")\n",
    "raw_content = fp.read()\n",
    "keyword_density = {}\n",
    "\n",
    "words = re.compile(\"[a-zA-Z]+\")\n",
    "all_words = re.findall(words,raw_content.lower())\n",
    "all_unique_words = set(all_words)\n",
    "all_words_count = len(all_words)\n",
    "\n",
    "for word in all_unique_words:\n",
    "    keyword_density.setdefault(word,all_words.count(word) / all_words_count)\n",
    "\n",
    "# print(keyword_density)\n",
    "\n",
    "most_freq = sorted(keyword_density.items(),reverse=True,key = lambda val : val[1])\n",
    "print(most_freq[:10])"
   ]
  },
  {
   "cell_type": "markdown",
   "metadata": {},
   "source": [
    "2. Write a program to search word in given text file.\n",
    "    - If a word is present print the sentence containing the given word.\n",
    "    - Implement find, find next and find all functionality "
   ]
  },
  {
   "cell_type": "code",
   "execution_count": 36,
   "metadata": {},
   "outputs": [
    {
     "name": "stdout",
     "output_type": "stream",
     "text": [
      "['We’re rapidly moving towards a day and age where almost everything can be controlled by machines and one of the most revolutionary moves has been the advent of artificial intelligence.', '\\n\\n \\n\\nTypes\\n\\nNext in line with this artificial intelligence online course is understanding the various types of AI.']\n"
     ]
    }
   ],
   "source": [
    "import re\n",
    "fp = open(\"blog.txt\",\"r\",encoding=\"utf-8\")\n",
    "raw_content = fp.read()\n",
    "sentense = re.compile(\"[a-zA-Z\\s’]+\\.\")\n",
    "all_sen = re.findall(sentense,raw_content)\n",
    "# print(all_sen)\n",
    "\n",
    "keyword = \"Artificial Intelligence\".lower()\n",
    "f = filter(lambda value:keyword in value,all_sen)\n",
    "print(list(f))"
   ]
  },
  {
   "cell_type": "markdown",
   "metadata": {},
   "source": [
    "3.Word Wrap - Given a sequence of words, and a limit on the number of characters that can be put in one line (line width). Put line breaks in the given sequence such that the lines are printed neatly. \n",
    "\n",
    "Assume that the length of each word is smaller than the line width. "
   ]
  },
  {
   "cell_type": "code",
   "execution_count": null,
   "metadata": {},
   "outputs": [],
   "source": [
    "- wraped_lines = []\n",
    "- fetch one line \n",
    "- - + reming str== \"\" + line\n",
    "- if cal no char > 100:\n",
    "    str = > 99 char from line + - \n",
    "    wraped_lines.add(str)\n",
    "    remaining str : 100: "
   ]
  },
  {
   "cell_type": "code",
   "execution_count": 13,
   "metadata": {},
   "outputs": [
    {
     "name": "stdout",
     "output_type": "stream",
     "text": [
      "['We’re rapidly moving towards a day and age where almost everything can be controlled by machines and', ' one of the most revolutionary moves has been the advent of artificial intelligence. In this artific\\n', 'ial intelligence course, we will talk about how to get started with AI and what exactly it is. While\\n', ' it began as a part of smartphones and other smart devices, AI has been increasingly taking over in \\n', 'other fields too. To begin with, one must understand what Artificial Intelligence is. It is an area \\n', 'of computer science focusing on the creation of intelligent machines that work and react like humans\\n']\n"
     ]
    }
   ],
   "source": [
    "fp = open(\"blog3.txt\",\"r\",encoding=\"utf-8\")\n",
    "remaining_str = \"\"\n",
    "output = []\n",
    "for line in fp:\n",
    "    next_line = remaining_str + line\n",
    "    if len(next_line) > 100:\n",
    "        output.append(next_line[:100])\n",
    "        remaining_str = next_line[100:]\n",
    "    else:\n",
    "        output.append(next_line)\n",
    "        remaining_str = \"\"\n",
    "\n",
    "# print(remaining_str)\n",
    "remaining_str_copy = remaining_str\n",
    "count = 0 \n",
    "for char in remaining_str:\n",
    "    count+=1\n",
    "    if count % 100 == 0: \n",
    "        output.append(remaining_str_copy[:100]+\"\\n\")\n",
    "        remaining_str_copy = remaining_str_copy[100:]\n",
    "\n",
    "print(output)\n",
    "fp.close()\n",
    "fp2 = open(\"blog4.txt\",\"w\",encoding=\"utf-8\")\n",
    "fp2.writelines(output)\n",
    "fp2.close()"
   ]
  },
  {
   "cell_type": "markdown",
   "metadata": {},
   "source": [
    "remaining_str = \"\" \n",
    "str = \"We’re rapidly moving towards a day and age where almost everything can be controlled by machines and one of the\"\n",
    "\n",
    "new_str = remaining_str  + str\n",
    "if count(new_str) > 100:\n",
    "      wrapped_str = (new_str[:100])+\"-\"\n",
    "      output.append(wrapped_str)\n",
    "      remaing_str = new_str[100:]\n",
    "      \n"
   ]
  },
  {
   "cell_type": "code",
   "execution_count": null,
   "metadata": {},
   "outputs": [],
   "source": [
    "every line 100 chars 99 - \n",
    "-"
   ]
  },
  {
   "cell_type": "code",
   "execution_count": 38,
   "metadata": {},
   "outputs": [
    {
     "name": "stdout",
     "output_type": "stream",
     "text": [
      "[6, 28]\n"
     ]
    }
   ],
   "source": [
    "f = filter(lambda num1:num1 == sum([value for value in range(1,num1) if num1 % value == 0]),range(1,100))\n",
    "print(list(f))"
   ]
  },
  {
   "cell_type": "markdown",
   "metadata": {},
   "source": [
    "4. You will be given a list of stock prices for a given day and your goal is to return the maximum profit that could have been made by buying a stock at the given price and then selling the stock later on. \n",
    "\n",
    "For example if the input is: [45, 24, 35, 31,10,38,40,11] then your program should return 16 because if you bought the stock at $24 and sold it at $40, a profit of $16 was made and this is the largest profit that could be made. If no profit could have been made, return -1."
   ]
  },
  {
   "cell_type": "code",
   "execution_count": null,
   "metadata": {},
   "outputs": [],
   "source": [
    "b_p = 45 s_p = 24  \n",
    "b_p = 45 s_p = 35\n",
    "b_p = 45 s_p = 31\n",
    "b_p = 45 s_p ==> 6\n",
    "\n",
    "b_p = 24 s_p ==> 5 \n",
    "\n",
    "b_p = 35 s_p ==> 4 \n",
    "\n",
    "b_p= 31 s_p ==>3"
   ]
  },
  {
   "cell_type": "code",
   "execution_count": null,
   "metadata": {},
   "outputs": [],
   "source": [
    "b_p = price[0] => 45\n",
    "s_p = price[1] => 24\n",
    "max_profit = 0 \n",
    "if b_p < s_p:\n",
    "    b_p = 24\n",
    "    s_p = index+ 1 => 35 \n",
    "    \n",
    "b_p 24 > sp => 35\n",
    "   max_profit = 11 \n",
    "\n",
    "    "
   ]
  }
 ],
 "metadata": {
  "kernelspec": {
   "display_name": "Python 3",
   "language": "python",
   "name": "python3"
  },
  "language_info": {
   "codemirror_mode": {
    "name": "ipython",
    "version": 3
   },
   "file_extension": ".py",
   "mimetype": "text/x-python",
   "name": "python",
   "nbconvert_exporter": "python",
   "pygments_lexer": "ipython3",
   "version": "3.6.5"
  }
 },
 "nbformat": 4,
 "nbformat_minor": 2
}
