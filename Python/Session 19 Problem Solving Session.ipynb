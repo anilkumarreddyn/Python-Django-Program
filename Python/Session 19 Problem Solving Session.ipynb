{
 "cells": [
  {
   "cell_type": "markdown",
   "metadata": {},
   "source": [
    "1. Keyword density is a foundational aspect of on-page SEO. When used correctly, it can help attract search engines and boost a page’s visibility on search engine results pages (SERPs).\n",
    "\n",
    "Formula to calculate the keyword density :\n",
    "\n",
    "keyword density = Number of times the target keyword appears / Number of words on a webpage\n",
    "= Keyword density\n",
    "\n",
    "eg : 20 (Number of times “project management” appears on the page) / 1,000 (Number of words on the webpage) = 2% (Keyword density)\n",
    "\n",
    "    - Write a program to find out 10 words with highest keyword density from a given text file.\n",
    "    - Given a set of keywords calulate the keyword density for the same."
   ]
  },
  {
   "cell_type": "code",
   "execution_count": null,
   "metadata": {},
   "outputs": [],
   "source": [
    "Keyword Density : \n",
    "    -target keyword : count(artificial intelligence)\n",
    "    -total no of words in the file     "
   ]
  },
  {
   "cell_type": "code",
   "execution_count": 24,
   "metadata": {},
   "outputs": [
    {
     "name": "stdout",
     "output_type": "stream",
     "text": [
      "Total number of words in this file 604\n",
      "0.008278145695364239\n"
     ]
    }
   ],
   "source": [
    "import re\n",
    "fp = open(\"blog.txt\",\"r\",encoding=\"utf-8\")\n",
    "raw_content = fp.read()\n",
    "\n",
    "words = re.compile(\"[a-zA-Z’]+\")\n",
    "all_words = re.findall(words,raw_content.lower())\n",
    "# print(all_words)\n",
    "all_words_count = len(all_words)\n",
    "\n",
    "print(\"Total number of words in this file {}\".format(all_words_count))\n",
    "\n",
    "target_keyword = \"Artificial Intelligence\".lower()\n",
    "target_keyword_count = raw_content.count(target_keyword)\n",
    "keyword_density = target_keyword_count / all_words_count\n",
    "print(keyword_density)\n",
    "fp.close()"
   ]
  },
  {
   "cell_type": "code",
   "execution_count": 22,
   "metadata": {},
   "outputs": [
    {
     "name": "stdout",
     "output_type": "stream",
     "text": [
      "['we’re']\n"
     ]
    }
   ],
   "source": [
    "s = \"we’re\"\n",
    "words = re.compile(\"[a-zA-Z’]+\")\n",
    "all_words = re.findall(words,s)\n",
    "print(all_words)"
   ]
  },
  {
   "cell_type": "code",
   "execution_count": 19,
   "metadata": {},
   "outputs": [
    {
     "name": "stdout",
     "output_type": "stream",
     "text": [
      "[('and', 0.03934426229508197), ('the', 0.03770491803278689), ('of', 0.03442622950819672), ('to', 0.03278688524590164), ('a', 0.03114754098360656), ('ai', 0.02459016393442623), ('is', 0.022950819672131147), ('it', 0.021311475409836064), ('learning', 0.018032786885245903), ('that', 0.01639344262295082)]\n"
     ]
    }
   ],
   "source": [
    "import re\n",
    "fp = open(\"blog.txt\",\"r\",encoding=\"utf-8\")\n",
    "raw_content = fp.read()\n",
    "keyword_density = {}\n",
    "\n",
    "words = re.compile(\"[a-zA-Z]+\")\n",
    "all_words = re.findall(words,raw_content.lower())\n",
    "all_unique_words = set(all_words)\n",
    "all_words_count = len(all_words)\n",
    "\n",
    "for word in all_unique_words:\n",
    "    keyword_density.setdefault(word,all_words.count(word) / all_words_count)\n",
    "\n",
    "# print(keyword_density)\n",
    "\n",
    "most_freq = sorted(keyword_density.items(),reverse=True,key = lambda val : val[1])\n",
    "print(most_freq[:10])"
   ]
  },
  {
   "cell_type": "markdown",
   "metadata": {},
   "source": [
    "2. Write a program to search word in given text file.\n",
    "    - If a word is present print the sentence containing the given word.\n",
    "    - Implement find, find next and find all functionality "
   ]
  },
  {
   "cell_type": "code",
   "execution_count": 36,
   "metadata": {},
   "outputs": [
    {
     "name": "stdout",
     "output_type": "stream",
     "text": [
      "['We’re rapidly moving towards a day and age where almost everything can be controlled by machines and one of the most revolutionary moves has been the advent of artificial intelligence.', '\\n\\n \\n\\nTypes\\n\\nNext in line with this artificial intelligence online course is understanding the various types of AI.']\n"
     ]
    }
   ],
   "source": [
    "import re\n",
    "fp = open(\"blog.txt\",\"r\",encoding=\"utf-8\")\n",
    "raw_content = fp.read()\n",
    "sentense = re.compile(\"[a-zA-Z\\s’]+\\.\")\n",
    "all_sen = re.findall(sentense,raw_content)\n",
    "# print(all_sen)\n",
    "\n",
    "keyword = \"Artificial Intelligence\".lower()\n",
    "f = filter(lambda value:keyword in value,all_sen)\n",
    "print(list(f))"
   ]
  },
  {
   "cell_type": "markdown",
   "metadata": {},
   "source": [
    "3.Word Wrap - Given a sequence of words, and a limit on the number of characters that can be put in one line (line width). Put line breaks in the given sequence such that the lines are printed neatly. \n",
    "\n",
    "Assume that the length of each word is smaller than the line width. "
   ]
  },
  {
   "cell_type": "code",
   "execution_count": null,
   "metadata": {},
   "outputs": [],
   "source": [
    "every line 100 chars 99 - \n",
    "-"
   ]
  },
  {
   "cell_type": "code",
   "execution_count": 38,
   "metadata": {},
   "outputs": [
    {
     "name": "stdout",
     "output_type": "stream",
     "text": [
      "[6, 28]\n"
     ]
    }
   ],
   "source": [
    "f = filter(lambda num1:num1 == sum([value for value in range(1,num1) if num1 % value == 0]),range(1,100))\n",
    "print(list(f))"
   ]
  }
 ],
 "metadata": {
  "kernelspec": {
   "display_name": "Python 3",
   "language": "python",
   "name": "python3"
  },
  "language_info": {
   "codemirror_mode": {
    "name": "ipython",
    "version": 3
   },
   "file_extension": ".py",
   "mimetype": "text/x-python",
   "name": "python",
   "nbconvert_exporter": "python",
   "pygments_lexer": "ipython3",
   "version": "3.6.5"
  }
 },
 "nbformat": 4,
 "nbformat_minor": 2
}
