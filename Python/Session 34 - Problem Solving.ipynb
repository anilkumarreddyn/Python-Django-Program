{
 "cells": [
  {
   "cell_type": "code",
   "execution_count": null,
   "metadata": {},
   "outputs": [],
   "source": [
    "The goal of this program is to model a game of bowling. Given a series of input the program should output the players final score.\n",
    " \n",
    "Specification/Rules of Bowling\n",
    " \n",
    "Each game, or line of bowling, includes ten turns, or frames for the bowler.\n",
    " \n",
    "In each frame, the bowler gets up to two tries to knock down all the pins.\n",
    " \n",
    "If in two tries, he fails to knock them all down, his score for that frame is the total number of pins knocked down in his two tries.\n",
    " \n",
    "If in two tries he knocks them all down, this is called a spare and his score for the frame is ten plus the number of pins knocked down on his next throw (in his next turn).\n",
    "If on his first try in the frame he knocks down all the pins, this is called a strike. His turn is over, and his score for the frame is ten plus the simple total of the pins knocked down in his next two rolls.\n",
    " \n",
    "If he gets a spare or strike in the last (tenth) frame, the bowler gets to throw one or two more bonus balls, respectively. These bonus throws are taken as part of the same turn. If the bonus throws knock down all the pins, the process does not repeat: the bonus throws are only used to calculate the score of the final frame.\n",
    " \n",
    "The game score is the total of all frame scores.\n",
    " \n",
    "Example 1: Gutter balls (all zero)\n",
    "[0,0],[0,0],[0,0],[0,0],[0,0],[0,0],[0,0],[0,0],[0,0],[0,0]\n",
    "-> 0\n",
    " \n",
    "Example 2: All Threes\n",
    "[3,3],[3,3],[3,3],[3,3],[3,3],[3,3],[3,3],[3,3],[3,3],[3,3]\n",
    "-> 60\n",
    " \n",
    "Example 3: All Spares with first ball a 4\n",
    "[4,6],[4,6],[4,6],[4,6],[4,6],[4,6],[4,6],[4,6],[4,6],[4,6,4]\n",
    "-> 140\n",
    " \n",
    "Example 4: Nine Strikes followed by a gutter ball\n",
    "[10,0],[10,0],[10,0],[10,0],[10,0],[10,0],[10,0],[10,0],[10,0],[0,0]\n",
    "-> 240\n",
    " \n",
    "Example 5: Perfect Game\n",
    "[10,0],[10,0],[10,0],[10,0],[10,0],[10,0],[10,0],[10,0],[10,0],[10,10,10]\n",
    "-> 300"
   ]
  }
 ],
 "metadata": {
  "kernelspec": {
   "display_name": "Python 3",
   "language": "python",
   "name": "python3"
  },
  "language_info": {
   "codemirror_mode": {
    "name": "ipython",
    "version": 3
   },
   "file_extension": ".py",
   "mimetype": "text/x-python",
   "name": "python",
   "nbconvert_exporter": "python",
   "pygments_lexer": "ipython3",
   "version": "3.6.5"
  }
 },
 "nbformat": 4,
 "nbformat_minor": 2
}
