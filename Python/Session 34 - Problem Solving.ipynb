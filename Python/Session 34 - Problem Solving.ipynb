{
 "cells": [
  {
   "cell_type": "code",
   "execution_count": null,
   "metadata": {},
   "outputs": [],
   "source": [
    "The goal of this program is to model a game of bowling. Given a series of input the program should output the players final score.\n",
    " \n",
    "Specification/Rules of Bowling\n",
    " \n",
    "Each game, or line of bowling, includes ten turns, or frames for the bowler.\n",
    " \n",
    "In each frame, the bowler gets up to two tries to knock down all the pins.\n",
    " \n",
    "If in two tries, he fails to knock them all down, his score for that frame is the total number of pins knocked down in his two tries.\n",
    " \n",
    "If in two tries he knocks them all down, this is called a spare and his score for the frame \n",
    "is ten plus the number of pins knocked down on his next throw (in his next turn).\n",
    "If on his first try in the frame he knocks down all the pins, this is called a strike. \n",
    "His turn is over, and his score for the frame is \n",
    "ten plus the simple total of the pins knocked down in his next two rolls.\n",
    " \n",
    "If he gets a spare or strike in the last (tenth) frame, \n",
    "the bowler gets to throw one or two more bonus balls, respectively. \n",
    "These bonus throws are taken as part of the same turn. \n",
    "\n",
    "If the bonus throws knock down all the pins, the process does not repeat:\n",
    "the bonus throws are only used to calculate the score of the final frame.\n",
    " \n",
    "The game score is the total of all frame scores.\n",
    " \n",
    "Example 1: Gutter balls (all zero)\n",
    "[[0,0],[0,0],[0,0],[0,0],[0,0],[0,0],[0,0],[0,0],[0,0],[0,0]] => final score\n",
    "-> 0\n",
    " \n",
    "Example 2: All Threes\n",
    "[3,3],[3,3],[3,3],[3,3],[3,3],[3,3],[3,3],[3,3],[3,3],[3,3]\n",
    "-> 60\n",
    " \n",
    "Example 3: All Spares with first ball a 4\n",
    "[4,6],[4,6],[4,6],[4,6],[4,6],[4,6],[4,6],[4,6],[4,6],[4,6,4]\n",
    "-> 140\n",
    " \n",
    "Example 4: Nine Strikes followed by a gutter ball\n",
    "[10,0],[10,0],[10,0],[10,0],[10,0],[10,0],[10,0],[10,0],[10,0],[0,0]\n",
    "10 + 10 + 10 => 30 \n",
    "-> 240\n",
    " \n",
    "Example 5: Perfect Game\n",
    "[10,0],[10,0],[10,0],[10,0],[10,0],[10,0],[10,0],[10,0],[10,0],[10,10,10]\n",
    "-> 300"
   ]
  },
  {
   "cell_type": "code",
   "execution_count": 10,
   "metadata": {},
   "outputs": [
    {
     "name": "stdout",
     "output_type": "stream",
     "text": [
      "300\n"
     ]
    }
   ],
   "source": [
    "def final_score(frames):\n",
    "    score = 0\n",
    "    for index,roll in enumerate(frames):\n",
    "        score = score + sum(roll) \n",
    "        \n",
    "        if roll[0]  == 10 and index<9:\n",
    "            if frames[index+1][0] == 10 and index == 8:\n",
    "                score = score + frames[index+1][0] + frames[index+1][1]\n",
    "            elif frames[index+1][0] == 10 :\n",
    "                score = score + frames[index+1][0] + frames[index+2][0]\n",
    "            else:\n",
    "                score += sum(frames[index+1])\n",
    "            \n",
    "        elif sum(roll) == 10 and index<9:\n",
    "            score += frames[index+1][0]            \n",
    "            \n",
    "    return score\n",
    "\n",
    "frames =[[10,0],[10,0],[10,0],[10,0],[10,0],[10,0],[10,0],[10,0],[10,0],[10,10,10]]\n",
    "result = final_score(frames)\n",
    "print(result)\n"
   ]
  },
  {
   "cell_type": "code",
   "execution_count": null,
   "metadata": {},
   "outputs": [],
   "source": [
    "2 Players \n",
    "at the end cal score "
   ]
  },
  {
   "cell_type": "code",
   "execution_count": null,
   "metadata": {},
   "outputs": [],
   "source": [
    "90 + 8 = 98 + 36 =>"
   ]
  },
  {
   "cell_type": "code",
   "execution_count": null,
   "metadata": {},
   "outputs": [],
   "source": [
    "Part 1 : \n",
    "Total pins => 10\n",
    "player 1 => [1,2,3,4,5,6,7,8,9,10]\n",
    "[(4,3),(5,2),(6,1)......(5,4)] => final score\n",
    "\n",
    "Part 2:\n",
    "Spare [(4,6)(3,2)] 10 +3 =>  13 + 5 => 18 \n",
    "\n",
    "Part3:\n",
    "Strike [(10,-),(2,2)]10 +4 => 14 + 4 => 18\n",
    "[(10,0),(10,0)(4,2)]\n",
    "10 + 10 + 4 = > 24\n",
    "10 + 6 = 16\n",
    "\n",
    "Part 4 : \n",
    "Spare in last roll [........... (4,6,4)] => 14\n",
    "                   [.............(4,6,10)] => 10 +10\n",
    "\n",
    "Part 4 \n",
    "Strike in last roll [..................(10,2,2)] => 14\n",
    "                    [...................(10,10,10)]=>30\n",
    "    \n",
    "Part 5 : 2 player game with hard coded frame values and calculate the winner \n",
    "    \n",
    "Part 6 : Give option to enter the numbers and construct the frames from it "
   ]
  },
  {
   "cell_type": "code",
   "execution_count": null,
   "metadata": {},
   "outputs": [],
   "source": [
    "          8 9 10 \n",
    "          4 5 6 7\n",
    "           2 3 \n",
    "            1\n",
    "            \n",
    "            \n",
    "            \n",
    "            \n",
    "            \n",
    "            0"
   ]
  },
  {
   "cell_type": "code",
   "execution_count": 5,
   "metadata": {},
   "outputs": [
    {
     "name": "stdout",
     "output_type": "stream",
     "text": [
      "0\n",
      "1\n",
      "2\n",
      "3\n",
      "4\n",
      "5\n",
      "6\n",
      "7\n",
      "8\n",
      "170\n"
     ]
    }
   ],
   "source": [
    "def calcScore(l):\n",
    "    score = 0\n",
    "    for i,v in enumerate(l):\n",
    "        if len(v) == 3:\n",
    "            score += sum(v)\n",
    "        elif len(v) == 2:\n",
    "            if sum(v) == 10:\n",
    "                if v[0] == 10:\n",
    "                    print(i)\n",
    "                    score += sum(v) + sum(l[i+1])\n",
    "                else:\n",
    "                    score += sum(v) + l[i+1][0]\n",
    "            else:\n",
    "                score += sum(v)\n",
    "    return score\n",
    "print(calcScore([[10,0],[10,0],[10,0],[10,0],[10,0],[10,0],[10,0],[10,0],[10,0],[0,0]]))"
   ]
  }
 ],
 "metadata": {
  "kernelspec": {
   "display_name": "Python 3",
   "language": "python",
   "name": "python3"
  },
  "language_info": {
   "codemirror_mode": {
    "name": "ipython",
    "version": 3
   },
   "file_extension": ".py",
   "mimetype": "text/x-python",
   "name": "python",
   "nbconvert_exporter": "python",
   "pygments_lexer": "ipython3",
   "version": "3.6.5"
  }
 },
 "nbformat": 4,
 "nbformat_minor": 2
}
