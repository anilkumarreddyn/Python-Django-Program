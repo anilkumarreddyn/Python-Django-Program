{
 "cells": [
  {
   "cell_type": "code",
   "execution_count": null,
   "metadata": {},
   "outputs": [],
   "source": [
    "Mutable: => add update and delete \n",
    "    list \n",
    "    dict \n",
    "    set \n",
    "Immutbale : => No methods to add update and delete\n",
    "    str \n",
    "    int\n",
    "    float \n",
    "    tuple \n",
    "    "
   ]
  },
  {
   "cell_type": "code",
   "execution_count": null,
   "metadata": {},
   "outputs": [],
   "source": [
    "id()"
   ]
  },
  {
   "cell_type": "code",
   "execution_count": null,
   "metadata": {},
   "outputs": [],
   "source": [
    "type()"
   ]
  },
  {
   "cell_type": "code",
   "execution_count": null,
   "metadata": {},
   "outputs": [],
   "source": [
    "None, \"\" , [] ,() ,{}\n",
    "\n",
    "if 100:\n",
    "    print(\"Something\")\n",
    "else:\n",
    "    print(\"Something else\")"
   ]
  },
  {
   "cell_type": "code",
   "execution_count": null,
   "metadata": {},
   "outputs": [],
   "source": [
    "Looping Statements  : For \n",
    "                      While "
   ]
  },
  {
   "cell_type": "code",
   "execution_count": null,
   "metadata": {},
   "outputs": [],
   "source": [
    "marks_obtained = 380\n",
    "total_marks = 500 \n",
    "# Pass/Fail \n",
    "# 40% => Pass else Fail\n",
    "percentage = (marks_obtained / total_marks) * 100 \n",
    "passing_per = 40 \n",
    "\n",
    "if percentage > passing_per:\n",
    "    print(\"Pass\")\n",
    "else:\n",
    "    print(\"Fail\")"
   ]
  },
  {
   "cell_type": "code",
   "execution_count": null,
   "metadata": {},
   "outputs": [],
   "source": [
    "l = [380,400,450,110,490]"
   ]
  },
  {
   "cell_type": "code",
   "execution_count": null,
   "metadata": {},
   "outputs": [],
   "source": [
    "l = [10,20,30,40,50]\n",
    "for [userdefined_variable] in [iterable_datatype]:\n",
    "    [statements]\n",
    "[Outside of for loop]"
   ]
  },
  {
   "cell_type": "code",
   "execution_count": 6,
   "metadata": {},
   "outputs": [
    {
     "name": "stdout",
     "output_type": "stream",
     "text": [
      "100\n",
      "400\n",
      "900\n",
      "1600\n",
      "2500\n"
     ]
    }
   ],
   "source": [
    "l = [10,20,30,40,50]\n",
    "for value in l:\n",
    "    print(value * value)"
   ]
  },
  {
   "cell_type": "code",
   "execution_count": 7,
   "metadata": {},
   "outputs": [
    {
     "name": "stdout",
     "output_type": "stream",
     "text": [
      "P\n",
      "y\n",
      "t\n",
      "h\n",
      "o\n",
      "n\n",
      " \n",
      "i\n",
      "s\n",
      " \n",
      "e\n",
      "a\n",
      "s\n",
      "y\n",
      " \n",
      "t\n",
      "o\n",
      " \n",
      "l\n",
      "e\n",
      "a\n",
      "r\n",
      "n\n"
     ]
    }
   ],
   "source": [
    "for value in \"Python is easy to learn\":\n",
    "    print(value)"
   ]
  },
  {
   "cell_type": "code",
   "execution_count": 8,
   "metadata": {},
   "outputs": [
    {
     "name": "stdout",
     "output_type": "stream",
     "text": [
      "email\n",
      "name\n",
      "id\n"
     ]
    }
   ],
   "source": [
    "d = {\"email\":\"abc@gmail.com\",\"name\":\"ABC\",\"id\":100}\n",
    "for x in d:\n",
    "    print(x)"
   ]
  },
  {
   "cell_type": "code",
   "execution_count": null,
   "metadata": {},
   "outputs": [],
   "source": [
    "iterable datatypes : \n",
    "    list\n",
    "    set\n",
    "    dict \n",
    "    str \n",
    "    tuple \n",
    "    \n",
    "int \n",
    "float "
   ]
  },
  {
   "cell_type": "code",
   "execution_count": 12,
   "metadata": {},
   "outputs": [
    {
     "name": "stdout",
     "output_type": "stream",
     "text": [
      "150\n"
     ]
    }
   ],
   "source": [
    "l = [10,20,30,40,50]\n",
    "# sum = 0\n",
    "# num1 = 10 \n",
    "# sum = 0 + 10 = 10 \n",
    "\n",
    "# num2 = 20\n",
    "# sum = 10 + 20 = 30 \n",
    "\n",
    "# num3 = 30\n",
    "# sum = 30 + 30 = 60 \n",
    "\n",
    "# num4 = 40 \n",
    "# sum = 60 + 40 = 100 \n",
    "\n",
    "# num5 = 50\n",
    "# sum = 100 + 50 = 150\n",
    "\n",
    "sum = 0\n",
    "for value in l:\n",
    "    sum = sum + value\n",
    "print(sum)\n",
    "    "
   ]
  },
  {
   "cell_type": "code",
   "execution_count": null,
   "metadata": {},
   "outputs": [],
   "source": [
    "range(10) 0.... 9\n",
    "range(10,50) 10 11 12 ..... 49\n",
    "range(10,50,5) 10 15 20 25 .... 45"
   ]
  },
  {
   "cell_type": "code",
   "execution_count": 15,
   "metadata": {},
   "outputs": [
    {
     "name": "stdout",
     "output_type": "stream",
     "text": [
      "10\n",
      "15\n",
      "20\n",
      "25\n",
      "30\n",
      "35\n",
      "40\n",
      "45\n"
     ]
    }
   ],
   "source": [
    "for value in range(10,50,5):\n",
    "    print(value)"
   ]
  },
  {
   "cell_type": "code",
   "execution_count": 20,
   "metadata": {},
   "outputs": [
    {
     "name": "stdout",
     "output_type": "stream",
     "text": [
      "[0, 1, 2, 3, 4, 5, 6, 7, 8, 9, 10, 11, 12, 13, 14, 15, 16, 17, 18, 19, 20, 21, 22, 23, 24, 25, 26, 27, 28, 29, 30, 31, 32, 33, 34, 35, 36, 37, 38, 39, 40, 41, 42, 43, 44, 45, 46, 47, 48, 49]\n"
     ]
    }
   ],
   "source": [
    "print(list(range(50)))"
   ]
  },
  {
   "cell_type": "code",
   "execution_count": 18,
   "metadata": {},
   "outputs": [
    {
     "name": "stdout",
     "output_type": "stream",
     "text": [
      "0\n",
      "1\n",
      "2\n",
      "3\n",
      "4\n",
      "5\n",
      "6\n",
      "7\n",
      "8\n",
      "9\n"
     ]
    }
   ],
   "source": [
    "num1 = range(10)\n",
    "for value in num1:\n",
    "    print(value)"
   ]
  },
  {
   "cell_type": "code",
   "execution_count": null,
   "metadata": {},
   "outputs": [],
   "source": [
    "pass\n",
    "continue\n",
    "break "
   ]
  },
  {
   "cell_type": "code",
   "execution_count": 22,
   "metadata": {},
   "outputs": [
    {
     "name": "stdout",
     "output_type": "stream",
     "text": [
      "lets check if i see this in output\n",
      "lets check if i see this in output\n",
      "4 14\n"
     ]
    }
   ],
   "source": [
    "s = \"Python Sample string\"\n",
    "vowel_count = 0 \n",
    "consonent_count = 0\n",
    "\n",
    "for value in s:\n",
    "    if value in \"AEIOUaeiou\":\n",
    "        vowel_count+=1\n",
    "    elif value == \" \":\n",
    "        continue\n",
    "        print(\"lets check if i see this in output\")\n",
    "    else:\n",
    "        consonent_count+= 1 \n",
    "        \n",
    "print(vowel_count,consonent_count)"
   ]
  },
  {
   "cell_type": "code",
   "execution_count": 24,
   "metadata": {},
   "outputs": [
    {
     "name": "stdout",
     "output_type": "stream",
     "text": [
      "hi\n",
      "hello\n"
     ]
    }
   ],
   "source": [
    "if 100:\n",
    "    print(\"hi\")\n",
    "else:\n",
    "    pass\n",
    "print(\"hello\")"
   ]
  },
  {
   "cell_type": "code",
   "execution_count": 28,
   "metadata": {},
   "outputs": [
    {
     "name": "stdout",
     "output_type": "stream",
     "text": [
      "10\n",
      "20\n",
      "30\n",
      "Number is Negative -1\n",
      "100\n",
      "20\n",
      "50\n",
      "60\n"
     ]
    }
   ],
   "source": [
    "l = [10,20,30,-1,100,20,50,60]\n",
    "for value in l:\n",
    "    if value < 0:\n",
    "        print(\"Number is Negative\",value)\n",
    "        break\n",
    "    else:\n",
    "        print(value)"
   ]
  },
  {
   "cell_type": "code",
   "execution_count": 39,
   "metadata": {},
   "outputs": [
    {
     "name": "stdout",
     "output_type": "stream",
     "text": [
      "Key is present\n"
     ]
    }
   ],
   "source": [
    "nums = [10,20,30,40,50,60,70,80]\n",
    "key = 50\n",
    "flag = False\n",
    "for value in nums:\n",
    "    if value == key:\n",
    "        flag = True\n",
    "        break\n",
    "\n",
    "if flag == True:\n",
    "    print(\"Key is present\")\n",
    "else:\n",
    "    print(\"key is not present\")"
   ]
  },
  {
   "cell_type": "code",
   "execution_count": 47,
   "metadata": {},
   "outputs": [
    {
     "name": "stdout",
     "output_type": "stream",
     "text": [
      "Key is present\n"
     ]
    }
   ],
   "source": [
    "nums = [10,20,30,40,50,60,70,80]\n",
    "key = 80\n",
    "\n",
    "for value in nums:\n",
    "    if value == key:\n",
    "        print(\"Key is present\")\n",
    "        break\n",
    "else:\n",
    "    print(\"Key is not present\")\n"
   ]
  },
  {
   "cell_type": "code",
   "execution_count": null,
   "metadata": {},
   "outputs": [],
   "source": [
    "enumerate => index,value "
   ]
  },
  {
   "cell_type": "code",
   "execution_count": 50,
   "metadata": {},
   "outputs": [
    {
     "name": "stdout",
     "output_type": "stream",
     "text": [
      "0 10\n",
      "1 20\n",
      "2 30\n",
      "3 40\n",
      "4 50\n"
     ]
    }
   ],
   "source": [
    "l = [10,20,30,40,50]\n",
    "for index,value in enumerate(l):\n",
    "    print(index,value)"
   ]
  },
  {
   "cell_type": "code",
   "execution_count": 53,
   "metadata": {},
   "outputs": [
    {
     "name": "stdout",
     "output_type": "stream",
     "text": [
      "Key is not present\n"
     ]
    }
   ],
   "source": [
    "nums = [10,20,30,40,50,60,70,80]\n",
    "key = 30\n",
    "\n",
    "for index,value in enumerate(nums):\n",
    "    if value == key:\n",
    "        print(\"Key is present at index: \",index)\n",
    "        break\n",
    "else:\n",
    "    print(\"Key is not present\")"
   ]
  },
  {
   "cell_type": "code",
   "execution_count": 49,
   "metadata": {},
   "outputs": [
    {
     "name": "stdout",
     "output_type": "stream",
     "text": [
      "20\n"
     ]
    }
   ],
   "source": [
    "l = [10,20,30,40,50]\n",
    "print(l[1])"
   ]
  },
  {
   "cell_type": "code",
   "execution_count": 40,
   "metadata": {},
   "outputs": [
    {
     "name": "stdout",
     "output_type": "stream",
     "text": [
      "10\n",
      "20\n",
      "30\n",
      "40\n",
      "50\n",
      "60\n",
      "This statement is executed\n"
     ]
    }
   ],
   "source": [
    "l = [10,20,30,40,50,60]\n",
    "for value in l:\n",
    "    print(value)    \n",
    "else:\n",
    "    print(\"This statement is executed\")"
   ]
  },
  {
   "cell_type": "code",
   "execution_count": 43,
   "metadata": {},
   "outputs": [
    {
     "name": "stdout",
     "output_type": "stream",
     "text": [
      "10\n",
      "20\n",
      "30\n",
      "value is 40\n"
     ]
    }
   ],
   "source": [
    "l = [10,20,30,40,50,60]\n",
    "for value in l:\n",
    "    if value  == 40:\n",
    "        print(\"value is 40\")\n",
    "        break\n",
    "    else:\n",
    "        print(value)\n",
    "    \n",
    "else:\n",
    "    print(\"This statement is executed\")"
   ]
  },
  {
   "cell_type": "code",
   "execution_count": null,
   "metadata": {},
   "outputs": [],
   "source": [
    "num1 = 6\n",
    "# Perfect no or not \n",
    "# 1 + 2 + 3 = 6\n",
    "\n",
    "Possible divisors = 1 2 3 4 5\n",
    "Divisors  = 1 2 3 \n",
    "Sum = \n"
   ]
  },
  {
   "cell_type": "code",
   "execution_count": null,
   "metadata": {},
   "outputs": [],
   "source": [
    "28 : 1 2 4 7 14 "
   ]
  },
  {
   "cell_type": "code",
   "execution_count": 60,
   "metadata": {},
   "outputs": [
    {
     "name": "stdout",
     "output_type": "stream",
     "text": [
      "1\n",
      "2\n",
      "3\n",
      "Perfect number\n"
     ]
    }
   ],
   "source": [
    "num1 = 6\n",
    "sum = 0\n",
    "for value in range(1,num1 // 2 + 1):\n",
    "    print(value)\n",
    "    if num1 % value == 0:\n",
    "        sum = sum + value\n",
    "if sum == num1:\n",
    "    print(\"Perfect number\")\n",
    "else:\n",
    "    print(\"Not a perfect number\")"
   ]
  },
  {
   "cell_type": "code",
   "execution_count": null,
   "metadata": {},
   "outputs": [],
   "source": [
    "num1 = 7\n",
    "sum = 0\n",
    "for value in range(1,num1):\n",
    "    if num1 % value == 0:\n",
    "        sum = sum + value\n",
    "if sum == num1:\n",
    "    print(\"Perfect number\")\n",
    "else:\n",
    "    print(\"Not a perfect number\")"
   ]
  },
  {
   "cell_type": "code",
   "execution_count": 62,
   "metadata": {},
   "outputs": [
    {
     "name": "stdout",
     "output_type": "stream",
     "text": [
      "5\n",
      "10\n",
      "15\n",
      "20\n",
      "25\n",
      "30\n",
      "35\n",
      "40\n",
      "45\n",
      "50\n"
     ]
    }
   ],
   "source": [
    "num1 = 5 \n",
    "# 5 * 1 = 5\n",
    "# 5 * 2 = 10\n",
    "# 5 * 3 = 15\n",
    "# ...\n",
    "\n",
    "# 5 * 10 = 50 \n",
    "for value in range(1,11):\n",
    "    print(5 * value)"
   ]
  },
  {
   "cell_type": "code",
   "execution_count": 72,
   "metadata": {},
   "outputs": [
    {
     "name": "stdout",
     "output_type": "stream",
     "text": [
      "1 2 3 4 5 6 7 8 9 10 \n",
      "\n",
      "2 4 6 8 10 12 14 16 18 20 \n",
      "\n",
      "3 6 9 12 15 18 21 24 27 30 \n",
      "\n",
      "4 8 12 16 20 24 28 32 36 40 \n",
      "\n",
      "5 10 15 20 25 30 35 40 45 50 \n",
      "\n"
     ]
    }
   ],
   "source": [
    "for value1 in range(1,6):    \n",
    "    for value2 in range(1,11):\n",
    "        print(value1 * value2,end = \" \")\n",
    "    print(\"\\n\")"
   ]
  },
  {
   "cell_type": "code",
   "execution_count": 69,
   "metadata": {},
   "outputs": [
    {
     "name": "stdout",
     "output_type": "stream",
     "text": [
      "10,20 "
     ]
    }
   ],
   "source": [
    "print(10,20,end = \" \",sep = \",\")\n",
    "# print(100)"
   ]
  },
  {
   "cell_type": "code",
   "execution_count": 63,
   "metadata": {},
   "outputs": [
    {
     "name": "stdout",
     "output_type": "stream",
     "text": [
      "0 100\n",
      "0 101\n",
      "0 102\n",
      "0 103\n",
      "0 104\n",
      "1 100\n",
      "1 101\n",
      "1 102\n",
      "1 103\n",
      "1 104\n",
      "2 100\n",
      "2 101\n",
      "2 102\n",
      "2 103\n",
      "2 104\n",
      "3 100\n",
      "3 101\n",
      "3 102\n",
      "3 103\n",
      "3 104\n",
      "4 100\n",
      "4 101\n",
      "4 102\n",
      "4 103\n",
      "4 104\n"
     ]
    }
   ],
   "source": [
    "for value1 in range(5):\n",
    "    for value2 in range(100,105):\n",
    "        print(value1,value2)"
   ]
  },
  {
   "cell_type": "code",
   "execution_count": null,
   "metadata": {},
   "outputs": [],
   "source": [
    "1*1   2 * 1 2..... 5\n",
    "1*2   2 * 2 4      10   \n",
    "1*3   2 * 3 6      15 \n",
    "1*4\n",
    "1*5 \n",
    "\n",
    "\n",
    "10   20     50 "
   ]
  },
  {
   "cell_type": "code",
   "execution_count": null,
   "metadata": {},
   "outputs": [],
   "source": [
    "- for loop syntax \n",
    " for var in [iterable datatype]:\n",
    "-range(100,500) 100 499 \n",
    "-range(100,500,100) 100 200 300 400 \n",
    "-enumerate index,value \n",
    "-pass\n",
    "-continue \n",
    "-break "
   ]
  },
  {
   "cell_type": "code",
   "execution_count": 80,
   "metadata": {},
   "outputs": [
    {
     "name": "stdout",
     "output_type": "stream",
     "text": [
      "10,20,Python Hi,Java\n"
     ]
    }
   ],
   "source": [
    "print(10,20,\"Python\",sep=\",\",end = \" \")\n",
    "print(\"Hi\",end = \",\")\n",
    "print(\"Java\")"
   ]
  },
  {
   "cell_type": "code",
   "execution_count": null,
   "metadata": {},
   "outputs": [],
   "source": [
    "while condition => True/False:\n",
    "    statements"
   ]
  },
  {
   "cell_type": "code",
   "execution_count": 81,
   "metadata": {},
   "outputs": [
    {
     "name": "stdout",
     "output_type": "stream",
     "text": [
      "120\n"
     ]
    }
   ],
   "source": [
    "num1 = 5 \n",
    "result = 1\n",
    "while num1 > 1:\n",
    "    result = result * num1\n",
    "    num1 = num1 - 1\n",
    "print(result)"
   ]
  },
  {
   "cell_type": "code",
   "execution_count": null,
   "metadata": {},
   "outputs": [],
   "source": [
    "while 100:\n",
    "    print(100)"
   ]
  },
  {
   "cell_type": "code",
   "execution_count": 84,
   "metadata": {},
   "outputs": [
    {
     "name": "stdout",
     "output_type": "stream",
     "text": [
      "105\n"
     ]
    }
   ],
   "source": [
    "count = 1 \n",
    "sum = 0\n",
    "\n",
    "while count <= 20:\n",
    "    sum = sum + count\n",
    "    count = count +1\n",
    "    if count == 15:\n",
    "        break\n",
    "else:\n",
    "    print(\"Statement gets executed\")\n",
    "print(sum)"
   ]
  },
  {
   "cell_type": "code",
   "execution_count": null,
   "metadata": {},
   "outputs": [],
   "source": [
    "str "
   ]
  }
 ],
 "metadata": {
  "kernelspec": {
   "display_name": "Python 3",
   "language": "python",
   "name": "python3"
  },
  "language_info": {
   "codemirror_mode": {
    "name": "ipython",
    "version": 3
   },
   "file_extension": ".py",
   "mimetype": "text/x-python",
   "name": "python",
   "nbconvert_exporter": "python",
   "pygments_lexer": "ipython3",
   "version": "3.6.5"
  }
 },
 "nbformat": 4,
 "nbformat_minor": 2
}
