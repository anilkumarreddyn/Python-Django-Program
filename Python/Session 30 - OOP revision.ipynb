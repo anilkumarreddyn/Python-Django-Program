{
 "cells": [
  {
   "cell_type": "code",
   "execution_count": 1,
   "metadata": {},
   "outputs": [],
   "source": [
    "import re"
   ]
  },
  {
   "cell_type": "code",
   "execution_count": null,
   "metadata": {},
   "outputs": [],
   "source": [
    "meta :\n",
    "    [a-z] => char class 1 occ\n",
    "    [0-9] => digit class 1 occ \n",
    "    . = > any char 1 occ\n",
    "    [a-z]+ => atleast one \n",
    "    * => zero or more \n",
    "    [a-z]{2,5}\n",
    "    ^ => start of the string \n",
    "    $ => end of the string \n",
    "    ? => optional \n",
    "    [^a-z]\n",
    "    [^0-9]"
   ]
  },
  {
   "cell_type": "code",
   "execution_count": null,
   "metadata": {},
   "outputs": [],
   "source": [
    "compile \n",
    "search => match object m.group()\n",
    "findall => list "
   ]
  },
  {
   "cell_type": "code",
   "execution_count": null,
   "metadata": {},
   "outputs": [],
   "source": [
    "\\w [a-zA-Z0-9] \n",
    " \\W [^a-zA-Z0-9]\n",
    "\n",
    "\\d [0-9]\n",
    "\\D [^0-9]\n",
    "\\s space \n",
    "\\S\n",
    "\n",
    "\\."
   ]
  },
  {
   "cell_type": "code",
   "execution_count": null,
   "metadata": {},
   "outputs": [],
   "source": [
    "Product :\n",
    "    id\n",
    "    name \n",
    "    sepecification \n",
    "    rating \n",
    "    price \n",
    "    reviews\n",
    "    quantity  "
   ]
  },
  {
   "cell_type": "code",
   "execution_count": null,
   "metadata": {},
   "outputs": [],
   "source": [
    "class Product:\n",
    "    pass\n",
    "\n",
    "prod1 = Product()"
   ]
  },
  {
   "cell_type": "code",
   "execution_count": null,
   "metadata": {},
   "outputs": [],
   "source": [
    "instance "
   ]
  },
  {
   "cell_type": "code",
   "execution_count": null,
   "metadata": {},
   "outputs": [],
   "source": [
    "Class :\n",
    "    attributes \n",
    "    \n",
    "    methods "
   ]
  },
  {
   "cell_type": "code",
   "execution_count": null,
   "metadata": {},
   "outputs": [],
   "source": [
    "Review \n",
    "    prod\n",
    "    user_name\n",
    "    rating\n",
    "    review_text "
   ]
  },
  {
   "cell_type": "code",
   "execution_count": null,
   "metadata": {},
   "outputs": [],
   "source": [
    "instance method"
   ]
  },
  {
   "cell_type": "code",
   "execution_count": null,
   "metadata": {},
   "outputs": [],
   "source": [
    "class method "
   ]
  },
  {
   "cell_type": "code",
   "execution_count": null,
   "metadata": {},
   "outputs": [],
   "source": [
    "class variables "
   ]
  },
  {
   "cell_type": "code",
   "execution_count": 26,
   "metadata": {},
   "outputs": [
    {
     "name": "stdout",
     "output_type": "stream",
     "text": [
      "3\n",
      "[<__main__.Product object at 0x000001E3BF0AC128>, <__main__.Product object at 0x000001E3BF0AC358>, <__main__.Product object at 0x000001E3BF0AC390>]\n",
      "4.0\n",
      "{'prod_id': 106, '_name': 'QQA', 'rating': 0, 'price': '200', 'author': 'LLL', 'pub': 'LLL'}\n",
      "{'prod_id': 104, '_name': 'Moto X', 'rating': 0, 'price': 15000, 'brand': 'Moto', 'cam': '10', 'ram': '4'}\n",
      "Moto X\n",
      "6\n",
      "6\n"
     ]
    }
   ],
   "source": [
    "class Product:\n",
    "    \n",
    "    count = 0 \n",
    "    products = []\n",
    "    \n",
    "    @classmethod\n",
    "    def incr_count(cls):\n",
    "        cls.count +=1 \n",
    "        \n",
    "    @classmethod\n",
    "    def add_product(cls,obj):\n",
    "        cls.products.append(obj)\n",
    "        \n",
    "    \n",
    "    def __init__(self,id,name,price):\n",
    "        self.prod_id = id\n",
    "        self._name = name\n",
    "        self.rating = 0\n",
    "        self.price = price\n",
    "        Product.incr_count()\n",
    "        Product.add_product(self)\n",
    "        \n",
    "    def set_name(self,new_name):\n",
    "        self.name = new_name\n",
    "        \n",
    "#     def get_rating(self):\n",
    "#         rating = 0\n",
    "#         count = 0\n",
    "#         for review in Review.reviews:\n",
    "#             if self == review.prod:\n",
    "#                 count += 1 \n",
    "#                 rating = rating + review.rating \n",
    "#         return rating / count\n",
    "    def get_rating(self):\n",
    "        rating = 0 \n",
    "        all_ratings = [review.rating for review in Review.reviews if self == review.prod]\n",
    "        return sum(all_ratings) / len(all_ratings)\n",
    "        \n",
    "    def get_name(self):\n",
    "        return self.__name\n",
    "\n",
    "# mob2 = Mobile(105,\"Moto G\",12000,\"Moto\",\"15\",\"6\")\n",
    "\n",
    "# book1 = Book(106,\"QQA\",\"200\",\"LLL\",\"LLL\")\n",
    "class Mobile(Product):\n",
    "    def __init__(self,id,name,price,brand,cam,ram):\n",
    "        super().__init__(id,name,price)\n",
    "        self.brand = brand\n",
    "        self.cam = cam\n",
    "        self.ram = ram\n",
    "    def __str__(self):\n",
    "        return self._name\n",
    "\n",
    "class Book(Product):\n",
    "    def __init__(self,id,name,price,author,pub):\n",
    "        super().__init__(id,name,price)\n",
    "        self.author = author\n",
    "        self.pub = pub\n",
    "    \n",
    "    def __str__(self):\n",
    "        return self._name\n",
    "        \n",
    "    \n",
    "\n",
    "class Review:\n",
    "    reviews = []\n",
    "    \n",
    "    def __init__(self,prod,user_name,rating,text):\n",
    "        self.prod = prod\n",
    "        self.user_name = user_name\n",
    "        self.rating = rating\n",
    "        self.text = text\n",
    "        Review.reviews.append(self)\n",
    "\n",
    "prod1 = Product(101,\"ABC\",5000)\n",
    "prod2 = Product(102,\"XYZ\",7000)\n",
    "prod3 = Product(103,\"RST\",8000)\n",
    "# print(prod1._Product__name)\n",
    "\n",
    "print(Product.count)\n",
    "# prod2 = Product(101,\"PQR\",\"4\",7000)\n",
    "# print(prod2.name)\n",
    "\n",
    "# prod1.set_name(\"ZYZ\")\n",
    "# print(prod1.name)\n",
    "print(Product.products)\n",
    "\n",
    "rev1 = Review(prod1,\"CCC\",3.6,\"Good\")\n",
    "rev2 = Review(prod1,\"TTT\",4.4,\"Good\")\n",
    "rev3 = Review(prod2,\"AAA\",3.8,\"Good\")\n",
    "rev4 = Review(prod3,\"EEE\",5,\"Good\")\n",
    "rev5 = Review(prod3,\"PPP\",5,\"Good\")\n",
    "\n",
    "print(prod1.get_rating())\n",
    "\n",
    "mob1 = Mobile(104,\"Moto X\",15000,\"Moto\",\"10\",\"4\")\n",
    "mob2 = Mobile(105,\"Moto G\",12000,\"Moto\",\"15\",\"6\")\n",
    "\n",
    "book1 = Book(106,\"QQA\",\"200\",\"LLL\",\"LLL\")\n",
    "print(book1.__dict__)\n",
    "print(mob1.__dict__)\n",
    "print(mob1)\n",
    "\n",
    "print(prod1.count)\n",
    "prod1.count = 100\n",
    "print(Product.count)"
   ]
  },
  {
   "cell_type": "code",
   "execution_count": null,
   "metadata": {},
   "outputs": [],
   "source": [
    "MRO => depth first left to right "
   ]
  },
  {
   "cell_type": "code",
   "execution_count": null,
   "metadata": {},
   "outputs": [],
   "source": [
    "\n",
    "class A(B,C)\n",
    "\n",
    "class D(A)\n",
    "\n",
    "class E(A)\n",
    "a.get()\n",
    "\n",
    "\n",
    "e : E => A => B => C\n",
    "\n",
    "    super.get()\n",
    "    C.get(self)"
   ]
  },
  {
   "cell_type": "code",
   "execution_count": null,
   "metadata": {},
   "outputs": [],
   "source": [
    "method overriding : "
   ]
  },
  {
   "cell_type": "code",
   "execution_count": null,
   "metadata": {},
   "outputs": [],
   "source": [
    "method overloading : add(int num1,str num2)\n",
    "    \n",
    "    add(int num1,int num2)\n",
    "1. Number of para\n",
    "2. Type of para"
   ]
  },
  {
   "cell_type": "code",
   "execution_count": 24,
   "metadata": {},
   "outputs": [
    {
     "name": "stdout",
     "output_type": "stream",
     "text": [
      "60\n"
     ]
    }
   ],
   "source": [
    "def add(*args):\n",
    "    return num1+num2\n",
    "\n",
    "def add(num1,num2,num3):\n",
    "    return num1+num2+num3\n",
    "print(add(10,20,30))"
   ]
  },
  {
   "cell_type": "code",
   "execution_count": null,
   "metadata": {},
   "outputs": [],
   "source": [
    "__add__\n",
    "\n",
    "__str__"
   ]
  },
  {
   "cell_type": "code",
   "execution_count": null,
   "metadata": {},
   "outputs": [],
   "source": [
    "Books\n",
    "    author\n",
    "    publication \n",
    "    category \n",
    "    \n",
    "Mobiles \n",
    "    company_name\n",
    "    camera\n",
    "    ram \n",
    "    "
   ]
  },
  {
   "cell_type": "code",
   "execution_count": null,
   "metadata": {},
   "outputs": [],
   "source": [
    "soup = BeautifulSoup(response.content,\"html.parser\")\n",
    "\n",
    "print(soup.get(\"href\"))\n",
    "print(soup.text)"
   ]
  },
  {
   "cell_type": "code",
   "execution_count": null,
   "metadata": {},
   "outputs": [],
   "source": [
    "iterator :\n",
    "    __next__\n",
    "    __iter__\n",
    "    \n",
    "list => __iter__\n",
    "i = iter(l)\n",
    "\n",
    "list()\n",
    "for \n",
    "next()"
   ]
  },
  {
   "cell_type": "code",
   "execution_count": null,
   "metadata": {},
   "outputs": [],
   "source": [
    "itertools :\n",
    "    islice(i,2,8)\n",
    "    chain(l1,r1,s1) \n",
    "    tee(i)=>2\n",
    "    cycle([10,20,30,40])\n",
    "    repeat([10,20,30,40])\n",
    "    combinations([10,20,30],2)\n",
    "    permutations \n",
    "    count(10,5) \n",
    "    "
   ]
  },
  {
   "cell_type": "code",
   "execution_count": null,
   "metadata": {},
   "outputs": [],
   "source": [
    "Generators : \n",
    "    yield "
   ]
  },
  {
   "cell_type": "code",
   "execution_count": 30,
   "metadata": {},
   "outputs": [
    {
     "name": "stdout",
     "output_type": "stream",
     "text": [
      "10\n",
      "20\n",
      "30\n",
      "40\n"
     ]
    },
    {
     "ename": "StopIteration",
     "evalue": "",
     "output_type": "error",
     "traceback": [
      "\u001b[1;31m---------------------------------------------------------------------------\u001b[0m",
      "\u001b[1;31mStopIteration\u001b[0m                             Traceback (most recent call last)",
      "\u001b[1;32m<ipython-input-30-9b492c6ce219>\u001b[0m in \u001b[0;36m<module>\u001b[1;34m()\u001b[0m\n\u001b[0;32m     10\u001b[0m \u001b[0mprint\u001b[0m\u001b[1;33m(\u001b[0m\u001b[0mnext\u001b[0m\u001b[1;33m(\u001b[0m\u001b[0mg\u001b[0m\u001b[1;33m)\u001b[0m\u001b[1;33m)\u001b[0m\u001b[1;33m\u001b[0m\u001b[0m\n\u001b[0;32m     11\u001b[0m \u001b[0mprint\u001b[0m\u001b[1;33m(\u001b[0m\u001b[0mnext\u001b[0m\u001b[1;33m(\u001b[0m\u001b[0mg\u001b[0m\u001b[1;33m)\u001b[0m\u001b[1;33m)\u001b[0m\u001b[1;33m\u001b[0m\u001b[0m\n\u001b[1;32m---> 12\u001b[1;33m \u001b[0mprint\u001b[0m\u001b[1;33m(\u001b[0m\u001b[0mnext\u001b[0m\u001b[1;33m(\u001b[0m\u001b[0mg\u001b[0m\u001b[1;33m)\u001b[0m\u001b[1;33m)\u001b[0m\u001b[1;33m\u001b[0m\u001b[0m\n\u001b[0m",
      "\u001b[1;31mStopIteration\u001b[0m: "
     ]
    }
   ],
   "source": [
    "def print_val(l):\n",
    "    for value in l:\n",
    "        yield value \n",
    "        if value == 60:\n",
    "            return value\n",
    "        \n",
    "g = print_val([10,20,30,40])\n",
    "print(next(g))\n",
    "print(next(g))\n",
    "print(next(g))\n",
    "print(next(g))\n",
    "print(next(g))\n"
   ]
  },
  {
   "cell_type": "code",
   "execution_count": null,
   "metadata": {},
   "outputs": [],
   "source": [
    "deco : is a func which takes func as an arg and returns new func"
   ]
  },
  {
   "cell_type": "code",
   "execution_count": 32,
   "metadata": {},
   "outputs": [
    {
     "name": "stdout",
     "output_type": "stream",
     "text": [
      "60\n"
     ]
    }
   ],
   "source": [
    "def deco(func):\n",
    "\n",
    "    def dbl_value(num1,num2):\n",
    "        return func(num1,num2) * 2        \n",
    "        \n",
    "    return dbl_value\n",
    "\n",
    "@deco\n",
    "def print_val(num1,num2):\n",
    "    return num1 +num2 \n",
    "\n",
    "print(print_val(10,20))"
   ]
  },
  {
   "cell_type": "code",
   "execution_count": 34,
   "metadata": {},
   "outputs": [
    {
     "name": "stdout",
     "output_type": "stream",
     "text": [
      "{3: 30, 2: 20}\n",
      "{1: 10}\n"
     ]
    }
   ],
   "source": [
    "d1 = {1:10,2:20}\n",
    "d2 = {3:30}\n",
    "\n",
    "d2.setdefault(2,d1.pop(2))\n",
    "print(d2)\n",
    "print(d1)"
   ]
  }
 ],
 "metadata": {
  "kernelspec": {
   "display_name": "Python 3",
   "language": "python",
   "name": "python3"
  },
  "language_info": {
   "codemirror_mode": {
    "name": "ipython",
    "version": 3
   },
   "file_extension": ".py",
   "mimetype": "text/x-python",
   "name": "python",
   "nbconvert_exporter": "python",
   "pygments_lexer": "ipython3",
   "version": "3.6.5"
  }
 },
 "nbformat": 4,
 "nbformat_minor": 2
}
