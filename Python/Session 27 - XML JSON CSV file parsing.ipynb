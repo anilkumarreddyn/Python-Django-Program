{
 "cells": [
  {
   "cell_type": "code",
   "execution_count": null,
   "metadata": {},
   "outputs": [],
   "source": [
    "def login(func):\n",
    "    \n",
    "    def new_func(username,password,val):        \n",
    "        if username == \"abc@123\" and password == \"password\":\n",
    "            return func(username,password,val)\n",
    "        else:\n",
    "            return \"Unauthorised user\"\n",
    "    \n",
    "    return new_func\n",
    "   \n",
    "@login\n",
    "def edit_name(username,password,new_name):\n",
    "    print(\"getting in edit name\")\n",
    "    return \"Name updated\"\n",
    "\n",
    "@login\n",
    "def edit_email(username,password,new_name):\n",
    "    print(\"getting in edit email\")\n",
    "    return \"email updated\"\n",
    "\n",
    "    \n",
    "print(edit_name(\"abc@1234\",\"password\",\"ABZ\"))\n",
    "# print(edit_email(\"abc@123\",\"password\",\"ABZ@gmail.com\"))\n",
    "    \n",
    "    \n",
    "    \n",
    "    "
   ]
  },
  {
   "cell_type": "code",
   "execution_count": null,
   "metadata": {},
   "outputs": [],
   "source": [
    "chain \n",
    "per\n",
    "com\n",
    "islice \n",
    "repeat \n",
    "tee\n",
    "cycle\n",
    "count"
   ]
  },
  {
   "cell_type": "code",
   "execution_count": null,
   "metadata": {},
   "outputs": [],
   "source": [
    "__iter__\n",
    "__next__"
   ]
  },
  {
   "cell_type": "code",
   "execution_count": null,
   "metadata": {},
   "outputs": [],
   "source": [
    "list(i)\n",
    "next(i)\n",
    "loop"
   ]
  },
  {
   "cell_type": "code",
   "execution_count": null,
   "metadata": {},
   "outputs": [],
   "source": [
    "Gen : yield "
   ]
  },
  {
   "cell_type": "code",
   "execution_count": null,
   "metadata": {},
   "outputs": [],
   "source": [
    "API "
   ]
  },
  {
   "cell_type": "code",
   "execution_count": null,
   "metadata": {},
   "outputs": [],
   "source": [
    "Application    API  Third party app (Google auth)"
   ]
  },
  {
   "cell_type": "code",
   "execution_count": null,
   "metadata": {},
   "outputs": [],
   "source": [
    "Web API HTTP XML and JSON "
   ]
  },
  {
   "cell_type": "code",
   "execution_count": null,
   "metadata": {},
   "outputs": [],
   "source": [
    "JSON : Javascript Object Notation"
   ]
  },
  {
   "cell_type": "code",
   "execution_count": null,
   "metadata": {},
   "outputs": [],
   "source": [
    "{\n",
    "    \"glossary\": {\n",
    "        \"title\": \"example glossary\",\n",
    "\t\t\"GlossDiv\": {\n",
    "            \"title\": \"S\",\n",
    "\t\t\t\"GlossList\": {\n",
    "                \"GlossEntry\": {\n",
    "                    \"ID\": \"SGML\",\n",
    "\t\t\t\t\t\"SortAs\": \"SGML\",\n",
    "\t\t\t\t\t\"GlossTerm\": \"Standard Generalized Markup Language\",\n",
    "\t\t\t\t\t\"Acronym\": \"SGML\",\n",
    "\t\t\t\t\t\"Abbrev\": \"ISO 8879:1986\",\n",
    "\t\t\t\t\t\"GlossDef\": {\n",
    "                        \"para\": \"A meta-markup language, used to create markup languages such as DocBook.\",\n",
    "\t\t\t\t\t\t\"GlossSeeAlso\": [\"GML\", \"XML\"]\n",
    "                    },\n",
    "\t\t\t\t\t\"GlossSee\": \"markup\"\n",
    "                }\n",
    "            }\n",
    "        }\n",
    "    }\n",
    "}"
   ]
  },
  {
   "cell_type": "markdown",
   "metadata": {},
   "source": [
    "JSON Objects key: value                     dict      \n",
    "array : [10,20,30,\"Java\"]                   list \n",
    "str \"\"                                      str '' \"\" \"\"\" \"\"\"\n",
    "numbers 10 10.2555                          int float \n",
    "null                                        None\n",
    "NA                                            tuple()\n",
    "NA                                            set \n",
    "true/false                                  True/False "
   ]
  },
  {
   "cell_type": "code",
   "execution_count": 19,
   "metadata": {},
   "outputs": [
    {
     "name": "stdout",
     "output_type": "stream",
     "text": [
      "{\n",
      "    \"glossary\": {\n",
      "        \"title\": \"New title for JSON File\",\n",
      "        \"GlossDiv\": {\n",
      "            \"title\": \"S\",\n",
      "            \"GlossList\": {\n",
      "                \"GlossEntry\": {\n",
      "                    \"ID\": [\n",
      "                        \"SGML\",\n",
      "                        \"HTML\"\n",
      "                    ],\n",
      "                    \"SortAs\": \"SGML\",\n",
      "                    \"GlossTerm\": \"Standard Generalized Markup Language\",\n",
      "                    \"Acronym\": \"SGML\",\n",
      "                    \"Abbrev\": \"ISO 8879:1986\",\n",
      "                    \"GlossDef\": {\n",
      "                        \"para\": \"A meta-markup language, used to create markup languages such as DocBook.\",\n",
      "                        \"GlossSeeAlso\": [\n",
      "                            \"GML\",\n",
      "                            \"XML\"\n",
      "                        ]\n",
      "                    },\n",
      "                    \"GlossSee\": \"markup\"\n",
      "                }\n",
      "            }\n",
      "        }\n",
      "    }\n",
      "}\n"
     ]
    }
   ],
   "source": [
    "import json \n",
    "fp = open(\"gloss.json\",\"r\")\n",
    "content = fp.read()\n",
    "d = json.loads(content)\n",
    "fp.close()\n",
    "# print((d))\n",
    "# print(d.keys())\n",
    "# print(d['glossary']['title'])\n",
    "d['glossary']['title'] = \"New title for JSON File\"\n",
    "# print(d['glossary']['GlossDiv']['GlossList']['GlossEntry'][\"ID\"])\n",
    "d['glossary']['GlossDiv']['GlossList']['GlossEntry'][\"ID\"] = ('SGML','HTML')\n",
    "# print(d)\n",
    "\n",
    "j = json.dumps(d,indent=4)\n",
    "print(j)\n",
    "fp = open(\"gloss.json\",\"w\")\n",
    "fp.write(j)\n",
    "\n",
    "\n",
    "fp.close()"
   ]
  },
  {
   "cell_type": "code",
   "execution_count": null,
   "metadata": {},
   "outputs": [],
   "source": [
    "json : loads => json str => python dict \n",
    "       dumps => dict => json str  "
   ]
  },
  {
   "cell_type": "code",
   "execution_count": 5,
   "metadata": {},
   "outputs": [
    {
     "name": "stdout",
     "output_type": "stream",
     "text": [
      "300\n"
     ]
    }
   ],
   "source": [
    "l = [10,20,30,[100,200,300]]\n",
    "print(l[-1][-1])"
   ]
  },
  {
   "cell_type": "code",
   "execution_count": null,
   "metadata": {},
   "outputs": [],
   "source": [
    " <glossary><title>example glossary</title>\n",
    "  <GlossDiv><title>S</title>\n",
    "   <GlossList>\n",
    "    <GlossEntry ID=\"SGML\" SortAs=\"SGML\">\n",
    "     <GlossTerm>Standard Generalized Markup Language</GlossTerm>\n",
    "     <Acronym>SGML</Acronym>\n",
    "     <Abbrev>ISO 8879:1986</Abbrev>\n",
    "     <GlossDef>\n",
    "      <para>A meta-markup language, used to create markup\n",
    "languages such as DocBook.</para>\n",
    "      <GlossSeeAlso OtherTerm=\"GML\"/>\n",
    "      <GlossSeeAlso OtherTerm=\"XML\"/>\n",
    "     </GlossDef>\n",
    "     <GlossSee OtherTerm=\"markup\"/>\n",
    "    </GlossEntry>\n",
    "   </GlossList>\n",
    "  </GlossDiv>\n",
    " </glossary>"
   ]
  },
  {
   "cell_type": "code",
   "execution_count": null,
   "metadata": {},
   "outputs": [],
   "source": [
    "XML :\n",
    "    tags \n",
    "    attributes \n",
    "    text"
   ]
  },
  {
   "cell_type": "code",
   "execution_count": null,
   "metadata": {},
   "outputs": [],
   "source": [
    "<note date=\"12-12-2019\">\n",
    "    <to>ABC</to>\n",
    "    <from>PQR</from>\n",
    "    <message>Session at 7PM tomorrow</message>\n",
    "</note>"
   ]
  },
  {
   "cell_type": "code",
   "execution_count": null,
   "metadata": {},
   "outputs": [],
   "source": [
    "xmltodict \n",
    "cmd pip install xmltodict"
   ]
  },
  {
   "cell_type": "code",
   "execution_count": null,
   "metadata": {},
   "outputs": [],
   "source": [
    "pip freeze "
   ]
  },
  {
   "cell_type": "code",
   "execution_count": null,
   "metadata": {},
   "outputs": [],
   "source": [
    "loads => parse => xml str => ordered dict  \n",
    "dumps => unparse => dict => xml "
   ]
  },
  {
   "cell_type": "code",
   "execution_count": 28,
   "metadata": {},
   "outputs": [
    {
     "name": "stdout",
     "output_type": "stream",
     "text": [
      "<?xml version=\"1.0\" encoding=\"utf-8\"?>\n",
      "<glossary><title>New title for XML</title><GlossDiv><title>S</title><GlossList><GlossEntry ID=\"HTML\" SortAs=\"SGML\"><GlossTerm>Standard Generalized Markup Language</GlossTerm><Acronym>SGML</Acronym><Abbrev>ISO 8879:1986</Abbrev><GlossDef><para>A meta-markup language, used to create markup\n",
      "languages such as DocBook.</para><GlossSeeAlso OtherTerm=\"GML\"></GlossSeeAlso><GlossSeeAlso OtherTerm=\"XML\"></GlossSeeAlso></GlossDef><GlossSee OtherTerm=\"markup\"></GlossSee></GlossEntry></GlossList></GlossDiv></glossary>\n"
     ]
    }
   ],
   "source": [
    "import xmltodict\n",
    "fp = open(\"gloss.xml\",\"r\")\n",
    "content = fp.read()\n",
    "fp.close()\n",
    "d = xmltodict.parse(content)\n",
    "# print(d['glossary']['title'])\n",
    "d['glossary']['title'] = \"New title for XML\"\n",
    "d['glossary']['GlossDiv']['GlossList']['GlossEntry']['@ID'] = \"HTML\"\n",
    "x = xmltodict.unparse(d)\n",
    "print(x)\n",
    "fp = open(\"gloss.xml\",\"w\")\n",
    "fp.write(x)\n",
    "fp.close()"
   ]
  },
  {
   "cell_type": "code",
   "execution_count": null,
   "metadata": {},
   "outputs": [],
   "source": [
    "csv "
   ]
  },
  {
   "cell_type": "code",
   "execution_count": 30,
   "metadata": {},
   "outputs": [],
   "source": [
    "import csv"
   ]
  },
  {
   "cell_type": "code",
   "execution_count": null,
   "metadata": {},
   "outputs": [],
   "source": [
    "reader => every row is a list \n",
    "writer => every row is a list \n",
    "\n",
    "DictReader => every row is a Dict Key => col headings , \n",
    "DictWriter "
   ]
  },
  {
   "cell_type": "code",
   "execution_count": 37,
   "metadata": {},
   "outputs": [
    {
     "name": "stdout",
     "output_type": "stream",
     "text": [
      "['Name', 'Email', 'Contact']\n",
      "['ABC', 'ABC@gmail.com', '9123456789']\n",
      "['PQR', 'PQR@gmail.com', '9123456789']\n",
      "['XYZ', 'XYZ@gmail.com', '9123456789']\n",
      "['RST', 'RST@gmail.com', '9123456789']\n"
     ]
    }
   ],
   "source": [
    "fp = open(\"test.csv\",\"r\")\n",
    "reader_obj = csv.reader(fp)\n",
    "\n",
    "# print(list(reader_obj))\n",
    "print(next(reader_obj))\n",
    "\n",
    "for row in reader_obj:\n",
    "    print(row)"
   ]
  },
  {
   "cell_type": "code",
   "execution_count": 43,
   "metadata": {},
   "outputs": [],
   "source": [
    "fp = open(\"test.csv\",\"a+\")\n",
    "writer_obj = csv.writer(fp)\n",
    "writer_obj.writerow([\"eee\",'945777777'])\n",
    "fp.close()"
   ]
  },
  {
   "cell_type": "code",
   "execution_count": 42,
   "metadata": {},
   "outputs": [],
   "source": [
    "fp = open(\"test.csv\",\"a+\")\n",
    "writer_obj = csv.writer(fp,lineterminator = '\\n')\n",
    "writer_obj.writerows([[\"ddd\",'dd@gmail.com','945777777'],[\"qqq\",'qq@gmail.com','945777777']])\n",
    "fp.close()"
   ]
  },
  {
   "cell_type": "code",
   "execution_count": 44,
   "metadata": {},
   "outputs": [],
   "source": [
    "fp = open(\"test.csv\",\"a+\")\n",
    "writer_obj = csv.DictWriter(fp,lineterminator = '\\n',fieldnames=['Name','Email','Contact'])\n",
    "writer_obj.writerow({\"Name\":\"TTT\",\"Contact\":\"97888888888\"})\n",
    "fp.close()"
   ]
  },
  {
   "cell_type": "code",
   "execution_count": 50,
   "metadata": {},
   "outputs": [
    {
     "name": "stdout",
     "output_type": "stream",
     "text": [
      "OrderedDict([('Name', 'ABC'), ('Email', 'ABC@gmail.com'), ('Contact', '9123456789')])\n",
      "OrderedDict([('Name', 'PQR'), ('Email', 'PQR@gmail.com'), ('Contact', '9123456789')])\n",
      "OrderedDict([('Name', 'XYZ'), ('Email', 'XYZ@gmail.com'), ('Contact', '9123456789')])\n",
      "OrderedDict([('Name', 'RST'), ('Email', 'RST@gmail.com'), ('Contact', '9123456789')])\n",
      "OrderedDict([('Name', 'CCC'), ('Email', 'cc@gmail.com'), ('Contact', '945777777')])\n",
      "OrderedDict([('Name', 'ddd'), ('Email', 'dd@gmail.com'), ('Contact', '945777777')])\n",
      "OrderedDict([('Name', 'qqq'), ('Email', 'qq@gmail.com'), ('Contact', '945777777')])\n",
      "OrderedDict([('Name', 'eee'), ('Email', '945777777'), ('Contact', None)])\n",
      "OrderedDict([('Name', 'TTT'), ('Email', ''), ('Contact', '97888888888')])\n"
     ]
    }
   ],
   "source": [
    "fp = open(\"test.csv\",\"r\")\n",
    "reader_obj = csv.DictReader(fp)\n",
    "# print(next(reader_obj))\n",
    "\n",
    "for row in reader_obj:\n",
    "    print(row)\n",
    "fp.close()"
   ]
  },
  {
   "cell_type": "code",
   "execution_count": null,
   "metadata": {},
   "outputs": [],
   "source": [
    "reader \n",
    "writer \n",
    "\n",
    "DictReader \n",
    "DictWriter \n",
    "\n",
    "writer.writerow([])\n",
    "writer.writerows([[]])\n",
    "\n",
    "\n",
    "dict_writer.writerow({})\n",
    "dict_writer.writerows([{}])"
   ]
  },
  {
   "cell_type": "code",
   "execution_count": 51,
   "metadata": {},
   "outputs": [
    {
     "ename": "ZeroDivisionError",
     "evalue": "division by zero",
     "output_type": "error",
     "traceback": [
      "\u001b[1;31m---------------------------------------------------------------------------\u001b[0m",
      "\u001b[1;31mZeroDivisionError\u001b[0m                         Traceback (most recent call last)",
      "\u001b[1;32m<ipython-input-51-fe01563e1bc6>\u001b[0m in \u001b[0;36m<module>\u001b[1;34m()\u001b[0m\n\u001b[1;32m----> 1\u001b[1;33m \u001b[0mprint\u001b[0m\u001b[1;33m(\u001b[0m\u001b[1;36m10\u001b[0m\u001b[1;33m/\u001b[0m\u001b[1;36m0\u001b[0m\u001b[1;33m)\u001b[0m\u001b[1;33m\u001b[0m\u001b[0m\n\u001b[0m",
      "\u001b[1;31mZeroDivisionError\u001b[0m: division by zero"
     ]
    }
   ],
   "source": [
    "print(10/0)"
   ]
  },
  {
   "cell_type": "code",
   "execution_count": 52,
   "metadata": {},
   "outputs": [
    {
     "ename": "IndexError",
     "evalue": "list index out of range",
     "output_type": "error",
     "traceback": [
      "\u001b[1;31m---------------------------------------------------------------------------\u001b[0m",
      "\u001b[1;31mIndexError\u001b[0m                                Traceback (most recent call last)",
      "\u001b[1;32m<ipython-input-52-afc95f29d759>\u001b[0m in \u001b[0;36m<module>\u001b[1;34m()\u001b[0m\n\u001b[0;32m      1\u001b[0m \u001b[0ml\u001b[0m \u001b[1;33m=\u001b[0m \u001b[1;33m[\u001b[0m\u001b[1;36m10\u001b[0m\u001b[1;33m,\u001b[0m\u001b[1;36m20\u001b[0m\u001b[1;33m,\u001b[0m\u001b[1;36m30\u001b[0m\u001b[1;33m,\u001b[0m\u001b[1;36m40\u001b[0m\u001b[1;33m]\u001b[0m\u001b[1;33m\u001b[0m\u001b[0m\n\u001b[1;32m----> 2\u001b[1;33m \u001b[0mprint\u001b[0m\u001b[1;33m(\u001b[0m\u001b[0ml\u001b[0m\u001b[1;33m[\u001b[0m\u001b[1;36m10\u001b[0m\u001b[1;33m]\u001b[0m\u001b[1;33m)\u001b[0m\u001b[1;33m\u001b[0m\u001b[0m\n\u001b[0m",
      "\u001b[1;31mIndexError\u001b[0m: list index out of range"
     ]
    }
   ],
   "source": [
    "l = [10,20,30,40]\n",
    "print(l[10])"
   ]
  },
  {
   "cell_type": "code",
   "execution_count": 62,
   "metadata": {},
   "outputs": [
    {
     "name": "stdout",
     "output_type": "stream",
     "text": [
      "Runtime exception <class 'Exception'> name 'a' is not defined\n",
      "Welcome to python\n"
     ]
    }
   ],
   "source": [
    "try:\n",
    "    print(a)\n",
    "    l = [10,20,30]\n",
    "    print(l[10])\n",
    "    print(10 / 2)\n",
    "except ZeroDivisionError as e:\n",
    "    print(\"You can not divide by zero\")\n",
    "except IndexError as e:\n",
    "    print(\"You specified the wrong index\",e)\n",
    "except Exception as e:\n",
    "    print(\"Runtime exception\",Exception,e)\n",
    "\n",
    "print(\"Welcome to python\")"
   ]
  },
  {
   "cell_type": "code",
   "execution_count": 67,
   "metadata": {},
   "outputs": [
    {
     "name": "stdout",
     "output_type": "stream",
     "text": [
      "You specified the wrong index list index out of range\n",
      "Welcome to python\n"
     ]
    }
   ],
   "source": [
    "class ValueLessThan50(Exception):\n",
    "    pass\n",
    "\n",
    "a = 20\n",
    "try:\n",
    "#     if a <50:\n",
    "#         raise ValueLessThan50\n",
    "        \n",
    "    l = [10,20,30]\n",
    "    print(l[10])\n",
    "    print(10 / 2)\n",
    "except ZeroDivisionError as e:\n",
    "    print(\"You can not divide by zero\")\n",
    "except IndexError as e:\n",
    "    print(\"You specified the wrong index\",e)\n",
    "except ValueLessThan50:\n",
    "    print(\"Value should be greater than 50\")\n",
    "except Exception as e:\n",
    "    print(\"Runtime exception\",Exception,e)\n",
    "\n",
    "print(\"Welcome to python\")"
   ]
  },
  {
   "cell_type": "code",
   "execution_count": 57,
   "metadata": {},
   "outputs": [
    {
     "name": "stdout",
     "output_type": "stream",
     "text": [
      "['ArithmeticError', 'AssertionError', 'AttributeError', 'BaseException', 'BlockingIOError', 'BrokenPipeError', 'BufferError', 'BytesWarning', 'ChildProcessError', 'ConnectionAbortedError', 'ConnectionError', 'ConnectionRefusedError', 'ConnectionResetError', 'DeprecationWarning', 'EOFError', 'Ellipsis', 'EnvironmentError', 'Exception', 'False', 'FileExistsError', 'FileNotFoundError', 'FloatingPointError', 'FutureWarning', 'GeneratorExit', 'IOError', 'ImportError', 'ImportWarning', 'IndentationError', 'IndexError', 'InterruptedError', 'IsADirectoryError', 'KeyError', 'KeyboardInterrupt', 'LookupError', 'MemoryError', 'ModuleNotFoundError', 'NameError', 'None', 'NotADirectoryError', 'NotImplemented', 'NotImplementedError', 'OSError', 'OverflowError', 'PendingDeprecationWarning', 'PermissionError', 'ProcessLookupError', 'RecursionError', 'ReferenceError', 'ResourceWarning', 'RuntimeError', 'RuntimeWarning', 'StopAsyncIteration', 'StopIteration', 'SyntaxError', 'SyntaxWarning', 'SystemError', 'SystemExit', 'TabError', 'TimeoutError', 'True', 'TypeError', 'UnboundLocalError', 'UnicodeDecodeError', 'UnicodeEncodeError', 'UnicodeError', 'UnicodeTranslateError', 'UnicodeWarning', 'UserWarning', 'ValueError', 'Warning', 'WindowsError', 'ZeroDivisionError', '__IPYTHON__', '__build_class__', '__debug__', '__doc__', '__import__', '__loader__', '__name__', '__package__', '__spec__', 'abs', 'all', 'any', 'ascii', 'bin', 'bool', 'bytearray', 'bytes', 'callable', 'chr', 'classmethod', 'compile', 'complex', 'copyright', 'credits', 'delattr', 'dict', 'dir', 'display', 'divmod', 'enumerate', 'eval', 'exec', 'filter', 'float', 'format', 'frozenset', 'get_ipython', 'getattr', 'globals', 'hasattr', 'hash', 'help', 'hex', 'id', 'input', 'int', 'isinstance', 'issubclass', 'iter', 'len', 'license', 'list', 'locals', 'map', 'max', 'memoryview', 'min', 'next', 'object', 'oct', 'open', 'ord', 'pow', 'print', 'property', 'range', 'repr', 'reversed', 'round', 'set', 'setattr', 'slice', 'sorted', 'staticmethod', 'str', 'sum', 'super', 'tuple', 'type', 'vars', 'zip']\n"
     ]
    }
   ],
   "source": [
    "print(dir(__builtins__))"
   ]
  }
 ],
 "metadata": {
  "kernelspec": {
   "display_name": "Python 3",
   "language": "python",
   "name": "python3"
  },
  "language_info": {
   "codemirror_mode": {
    "name": "ipython",
    "version": 3
   },
   "file_extension": ".py",
   "mimetype": "text/x-python",
   "name": "python",
   "nbconvert_exporter": "python",
   "pygments_lexer": "ipython3",
   "version": "3.6.5"
  }
 },
 "nbformat": 4,
 "nbformat_minor": 2
}
