{
 "cells": [
  {
   "cell_type": "raw",
   "metadata": {},
   "source": [
    "Hello all. Here we will see how to create linked list in python. We will implement CRUD(create, read, update, delete) operations also"
   ]
  },
  {
   "cell_type": "code",
   "execution_count": 9,
   "metadata": {},
   "outputs": [
    {
     "name": "stdout",
     "output_type": "stream",
     "text": [
      "1\n",
      "2\n",
      "3\n",
      "4\n",
      "8\n"
     ]
    }
   ],
   "source": [
    "# create a node class so we can create node for each and every element\n",
    "class Node:\n",
    "    def __init__(self,data):\n",
    "        self.data=data\n",
    "        self.next=None\n",
    "\n",
    "# Create a linked list class so that we create a class\n",
    "class LinkedList:\n",
    "    def __init__(self):\n",
    "        self.head=None\n",
    "\n",
    "# insert at beginning of list\n",
    "    def insertAtBeginning(self, new_data):\n",
    "        new_node = Node(new_data)\n",
    "        new_node.next = self.head\n",
    "        self.head = new_node\n",
    "\n",
    "#insert at a particular location\n",
    "    def insertAfter(self, prev_node, new_data):\n",
    "        if prev_node is None: \n",
    "            print (\"The given previous node must inLinkedList.\")\n",
    "            return\n",
    "        new_node = Node(new_data)  \n",
    "        new_node.next = prev_node.next\n",
    "        prev_node.next = new_node \n",
    "\n",
    "# insert at end of list\n",
    "    def insertAtEnd(self, new_data):\n",
    "        new_node = Node(new_data)\n",
    "        if self.head is None:\n",
    "            self.head=new_node\n",
    "            return\n",
    "        temp=self.head\n",
    "        while(temp.next):\n",
    "            temp=temp.next\n",
    "        temp.next=new_node\n",
    "\n",
    "# update element\n",
    "    def update(self, data, update_by):\n",
    "        temp = self.head\n",
    "        while(temp):\n",
    "            if temp.data==data:\n",
    "                temp.data=update_by\n",
    "                return\n",
    "            temp=temp.next\n",
    "        return (\"data doesn't not exist\")\n",
    "\n",
    "# remove an element\n",
    "    def remove(self,remove_data):\n",
    "        temp = self.head\n",
    "        if (temp is not None):\n",
    "            if (temp.data == remove_data):\n",
    "                self.head = temp.next\n",
    "                temp = None\n",
    "                return\n",
    "        while (temp is not None):\n",
    "            if temp.data == remove_data:\n",
    "                break\n",
    "            prev = temp\n",
    "            temp = temp.next\n",
    "        if (temp == None):\n",
    "            return\n",
    "        prev.next = temp.next\n",
    "        temp = None\n",
    "\n",
    "# will our list\n",
    "    def printList(self):\n",
    "        temp=self.head\n",
    "        while(temp):\n",
    "            print(temp.data)\n",
    "            temp=temp.next\n",
    "\n",
    "            \n",
    "            \n",
    "l = LinkedList()\n",
    "l.head=Node(1)\n",
    "second=Node(2)\n",
    "third=Node(3)\n",
    "fourth=Node(4)\n",
    "fifth=Node(8)\n",
    "l.head.next=second\n",
    "second.next=third\n",
    "third.next=fourth\n",
    "fourth.next=fifth\n",
    "l.printList()"
   ]
  },
  {
   "cell_type": "code",
   "execution_count": 14,
   "metadata": {},
   "outputs": [
    {
     "name": "stdout",
     "output_type": "stream",
     "text": [
      "5\n",
      "1\n",
      "2\n",
      "3\n",
      "4\n",
      "8\n"
     ]
    }
   ],
   "source": [
    "l.insertAtBeginning(5)\n",
    "l.printList()"
   ]
  },
  {
   "cell_type": "code",
   "execution_count": 15,
   "metadata": {},
   "outputs": [
    {
     "name": "stdout",
     "output_type": "stream",
     "text": [
      "5\n",
      "1\n",
      "2\n",
      "3\n",
      "7\n",
      "4\n",
      "8\n"
     ]
    }
   ],
   "source": [
    "l.insertAfter(third,7)\n",
    "l.printList()"
   ]
  },
  {
   "cell_type": "code",
   "execution_count": null,
   "metadata": {},
   "outputs": [],
   "source": []
  }
 ],
 "metadata": {
  "kernelspec": {
   "display_name": "Python 3",
   "language": "python",
   "name": "python3"
  },
  "language_info": {
   "codemirror_mode": {
    "name": "ipython",
    "version": 3
   },
   "file_extension": ".py",
   "mimetype": "text/x-python",
   "name": "python",
   "nbconvert_exporter": "python",
   "pygments_lexer": "ipython3",
   "version": "3.7.6"
  }
 },
 "nbformat": 4,
 "nbformat_minor": 4
}
