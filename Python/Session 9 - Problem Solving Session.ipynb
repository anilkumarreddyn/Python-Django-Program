{
 "cells": [
  {
   "cell_type": "code",
   "execution_count": null,
   "metadata": {},
   "outputs": [],
   "source": [
    "True/False :\n",
    "    - Comparison ==,!=,<,>\n",
    "    - identity is is not\n",
    "    - Membership in not in \n",
    "    - Logical Operators and or not \n",
    "    \n",
    "== => values  \n",
    "is => memory location \n",
    "\n",
    "False values : None \"\" 0 [] () {}\n",
    "    \n",
    "enumerate \n",
    "for index,value in enumerate(iterable):\n",
    "    \n",
    "Keys, values => items()\n",
    "\n",
    "for \n",
    "else: \n",
    "    \n",
    "[start:end:stride]\n",
    "2 => every seco char\n",
    "-1 => \n",
    "1 => left to right \n",
    "\n",
    "s[100] => IndexError\n",
    "\n",
    "Lists:\n",
    "    add :\n",
    "        append \n",
    "        extend \n",
    "        insert \n",
    "    Update:\n",
    "        l[index] = new_value\n",
    "        \n",
    "    Delete:\n",
    "        pop => index\n",
    "        remove => value\n",
    "        clear => empty list \n",
    "        del => del ref \n",
    "        \n",
    "    l1 + l2 =>\n",
    "    l1 * 2\n",
    "\n",
    "Dict :\n",
    "    Add:\n",
    "        d[key] = value\n",
    "        setdefault(key,default_value) => return the existing value\n",
    "    \n",
    "    Update:\n",
    "        d[key] = new_value\n",
    "\n",
    "    delete:\n",
    "        pop(\"key\")\n",
    "        popitem() \n",
    "        clear\n",
    "        del\n",
    "        \n",
    "- mutable\n",
    "- unordered \n",
    "- all the keys should be unique\n",
    "- all the keys should be immutable => int,str,float,tuple\n",
    "\n",
    "\n",
    "Sets:\n",
    "    - mutable\n",
    "    - unordered \n",
    "    - all the elemnts should be unique \n",
    "    - all the elemnts should be immutable \n",
    "    \n",
    "Iterable :\n",
    "    list tuple str dict set \n",
    "Not iterable :\n",
    "    int \n",
    "    float\n",
    "    \n",
    "print(dir(list ))\n",
    "    \n",
    "help(list)   \n",
    "\n",
    "        \n",
    "        "
   ]
  },
  {
   "cell_type": "markdown",
   "metadata": {},
   "source": [
    "1. find the missing number in given integer array of 1 to 10.\n",
    "l = [1,2,3,4,5,6,7,7,9,10]\n",
    "\n",
    " => Range(1,11)\n",
    "\n",
    " => Sum of n natural nos : n (n+1) / 2\n",
    "     sum => 1 to 10 \n",
    "     sum_list   \n",
    "     missing element = sum - sum_list \n",
    "\n",
    "=> Sets  only unique elemnts "
   ]
  },
  {
   "cell_type": "code",
   "execution_count": 12,
   "metadata": {},
   "outputs": [
    {
     "name": "stdout",
     "output_type": "stream",
     "text": [
      "[8]\n"
     ]
    }
   ],
   "source": [
    "input_nums = [1,2,3,4,5,6,7,9,10]\n",
    "all_nums = list(range(1,11))\n",
    "missing_elements = []\n",
    "\n",
    "for value in all_nums:\n",
    "    if value not in input_nums:        \n",
    "        missing_elements.append(value)\n",
    "print(missing_elements)"
   ]
  },
  {
   "cell_type": "code",
   "execution_count": 14,
   "metadata": {},
   "outputs": [
    {
     "name": "stdout",
     "output_type": "stream",
     "text": [
      "8.0\n"
     ]
    }
   ],
   "source": [
    "input_nums = [1,2,3,4,5,6,7,9,10]\n",
    "n = 10 \n",
    "expected_sum = n * (n + 1) / 2\n",
    "actual_sum = sum(input_nums)\n",
    "missing_element =  expected_sum - actual_sum\n",
    "print(missing_element)\n"
   ]
  },
  {
   "cell_type": "markdown",
   "metadata": {},
   "source": [
    "2. Find an element in array such that sum of left array is equal to sum of right array.\n",
    "\n",
    "l = [1,2,3,1,1,1]\n",
    "\n",
    "1 2 left side 1  rs => 6 \n",
    "  3 left side 3  right side 3  \n",
    "\n"
   ]
  },
  {
   "cell_type": "code",
   "execution_count": 34,
   "metadata": {},
   "outputs": [
    {
     "name": "stdout",
     "output_type": "stream",
     "text": [
      "eqi element is present at index 4 and value is 5\n"
     ]
    }
   ],
   "source": [
    "l = [1,2,1,1,5,1,4]\n",
    "for index,value in enumerate(l[1:]):\n",
    "\n",
    "    if sum(l[:index]) == sum(l[index + 1:]):\n",
    "        \n",
    "        print(\"eqi element is present at index {} and value is {}\".format(index,l[index]))\n",
    "        break\n"
   ]
  },
  {
   "cell_type": "code",
   "execution_count": null,
   "metadata": {},
   "outputs": [],
   "source": [
    "l = [1,2,1,1,5,1,4]\n",
    "eq = l[0]\n",
    "left_sum = 0 , right_sum = 14 \n",
    "\n",
    "1. left_sum = 1\n",
    "   right_sum = 12  \n",
    "    \n",
    "    "
   ]
  },
  {
   "cell_type": "markdown",
   "metadata": {},
   "source": [
    "3. Given 3 strings: first,  second, and third.Third String is said to be a shuffle of first and second if it can be formed by interleaving the characters of first and second String in a way that maintains the left to right ordering of the characters from each string.\n",
    "\n",
    "For example, given first = \"abc\" and second = \"def\",  third = \"dabecf\"  is a valid shuffle since it preserves the character ordering of the two strings. So, given these 3 strings write a program that detects whether the third String is a valid shuffle of first and second String.\n"
   ]
  },
  {
   "cell_type": "code",
   "execution_count": 28,
   "metadata": {},
   "outputs": [
    {
     "name": "stdout",
     "output_type": "stream",
     "text": [
      "Valid shuffle\n"
     ]
    }
   ],
   "source": [
    "s1 = \"abc\"\n",
    "s2 = \"def\"\n",
    "\n",
    "s3 = \"edabfc\"\n",
    "\n",
    "# 1 Iterate over s3 \n",
    "# 2. Check if char is present in S1 or S2 \n",
    "# 3. s1_pointer = 1 s2_pointer = 1 \n",
    "s1_pointer = s2_pointer = 0\n",
    "s3_index = 0\n",
    "while s3_index < len(s3):\n",
    "    \n",
    "    if s3[s3_index] in s1 and s1[s1_pointer] == s3[s3_index]:\n",
    "        s1_pointer+=1      \n",
    "        \n",
    "    elif s3[s3_index] in s2 and s2[s2_pointer] == s3[s3_index]:\n",
    "         s2_pointer+=1\n",
    "    else:\n",
    "        print(\"Not a valid shuffle\")\n",
    "        break\n",
    "    s3_index+=1\n",
    "else:\n",
    "    print(\"Valid shuffle\")\n"
   ]
  },
  {
   "cell_type": "code",
   "execution_count": null,
   "metadata": {},
   "outputs": [],
   "source": [
    "4.A Program to check if strings are rotations of each other or not\n",
    "Given a string s1 and a string s2, write a snippet to say whether s2 is a rotation of s1\n",
    "(eg given s1 = ABCD and s2 = CDAB, return true, given s1 = ABCD, and s2 = ACBD , return false)"
   ]
  },
  {
   "cell_type": "code",
   "execution_count": null,
   "metadata": {},
   "outputs": [],
   "source": [
    "5.Write a program to find all pairs in a list of Integers Whose sum is equal to a given Number.\n",
    "\n",
    "For example nums = [1,2,3,4,5] sum = 7\n",
    "expected output is ans = [(3,4),(2,5),(4,3),(5,2)]"
   ]
  },
  {
   "cell_type": "markdown",
   "metadata": {},
   "source": [
    "6. Caesar's cipher shifts each letter by a number of letters. If the shift takes you past the end of the alphabet, just rotate back to the front of the alphabet. In the case of a rotation by 3, w, x, y and z would map to z, a, b and c.\n",
    "\n",
    "For example if string is : \"welcome\" and shift is 4 the output will be \"aipgtqi\""
   ]
  },
  {
   "cell_type": "markdown",
   "metadata": {},
   "source": [
    "7. Write aprogram to check if two given strings are anagram of each other or not.\n",
    "\n",
    "\tAnagram Strings : if two given strings are anagrams of Each other. Two strings are anagrams if they are written using the same exact letters, ignoring space, punctuation, and capitalization.\n",
    "\tEg : Input : \"Army\" and \"Mary\" Output \"Strings are anagrams of each other\""
   ]
  },
  {
   "cell_type": "markdown",
   "metadata": {},
   "source": [
    "8.Write a program to find the first non repeated character of a given String"
   ]
  }
 ],
 "metadata": {
  "kernelspec": {
   "display_name": "Python 3",
   "language": "python",
   "name": "python3"
  },
  "language_info": {
   "codemirror_mode": {
    "name": "ipython",
    "version": 3
   },
   "file_extension": ".py",
   "mimetype": "text/x-python",
   "name": "python",
   "nbconvert_exporter": "python",
   "pygments_lexer": "ipython3",
   "version": "3.6.5"
  }
 },
 "nbformat": 4,
 "nbformat_minor": 2
}
