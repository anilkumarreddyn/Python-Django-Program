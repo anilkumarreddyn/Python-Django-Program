{
 "cells": [
  {
   "cell_type": "code",
   "execution_count": null,
   "metadata": {},
   "outputs": [],
   "source": [
    "https://www.bseindia.com/markets/equity/EQReports/MarketWatch.html?index_code=98"
   ]
  },
  {
   "cell_type": "code",
   "execution_count": null,
   "metadata": {},
   "outputs": [],
   "source": [
    "https://www.pexels.com/collections/mockups-jlc6sr1/"
   ]
  },
  {
   "cell_type": "code",
   "execution_count": 1,
   "metadata": {},
   "outputs": [],
   "source": [
    "import requests\n",
    "from bs4 import BeautifulSoup"
   ]
  },
  {
   "cell_type": "code",
   "execution_count": 20,
   "metadata": {},
   "outputs": [
    {
     "name": "stdout",
     "output_type": "stream",
     "text": [
      "<Response [200]>\n"
     ]
    }
   ],
   "source": [
    "response = requests.get(\"https://www.pexels.com/collections/season-autumn-ac5x7ny/?page=\")\n",
    "print(response)"
   ]
  },
  {
   "cell_type": "code",
   "execution_count": 18,
   "metadata": {},
   "outputs": [],
   "source": [
    "soup = BeautifulSoup(response.content,\"html.parser\")\n"
   ]
  },
  {
   "cell_type": "code",
   "execution_count": 13,
   "metadata": {},
   "outputs": [
    {
     "name": "stdout",
     "output_type": "stream",
     "text": [
      "https://images.pexels.com/photos/461098/pexels-photo-461098.jpeg?auto=compress&cs=tinysrgb&dpr=1&w=500\n",
      "pexels-photo-461098.jpeg\n"
     ]
    }
   ],
   "source": [
    "import re\n",
    "img = soup.find(\"img\",attrs={\"class\":\"photo-item__img\"})\n",
    "img_link = img.get('src')\n",
    "print(img_link)\n",
    "file_name_regx = re.compile(\".*/(.*\\.jpe?g).*\")\n",
    "m = re.search(file_name_regx,img_link)\n",
    "print(m.group(1))"
   ]
  },
  {
   "cell_type": "code",
   "execution_count": 19,
   "metadata": {},
   "outputs": [
    {
     "name": "stdout",
     "output_type": "stream",
     "text": [
      "12\n"
     ]
    }
   ],
   "source": [
    "import re\n",
    "imgs = soup.find_all(\"img\",attrs={\"class\":\"photo-item__img\"})\n",
    "file_name_regx = re.compile(\".*/(.*\\.jpe?g).*\")\n",
    "count = 0 \n",
    "for img in imgs:\n",
    "    count+=1\n",
    "    img_link = img.get('src')\n",
    "    m = re.search(file_name_regx,img_link)\n",
    "    file_name = m.group(1)\n",
    "    \n",
    "#     response2 = requests.get(img_link)\n",
    "#     fp = open(file_name,\"wb\")\n",
    "#     fp.write(response2.content)\n",
    "#     fp.close()\n",
    "print(count)"
   ]
  },
  {
   "cell_type": "code",
   "execution_count": 22,
   "metadata": {},
   "outputs": [
    {
     "name": "stdout",
     "output_type": "stream",
     "text": [
      "93\n"
     ]
    }
   ],
   "source": [
    "import re\n",
    "count = 0\n",
    "for page_no in range(1,9):\n",
    "    url = \"https://www.pexels.com/collections/season-autumn-ac5x7ny/?page={}\".format(page_no)\n",
    "    response = requests.get(url)\n",
    "    soup = BeautifulSoup(response.content,\"html.parser\")\n",
    "    imgs = soup.find_all(\"img\",attrs={\"class\":\"photo-item__img\"})\n",
    "    file_name_regx = re.compile(\".*/(.*\\.jpe?g).*\")\n",
    "    \n",
    "    for img in imgs:\n",
    "        count+=1\n",
    "        img_link = img.get('src')\n",
    "        m = re.search(file_name_regx,img_link)\n",
    "        file_name = m.group(1)\n",
    "    \n",
    "        response2 = requests.get(img_link)\n",
    "        fp = open(file_name,\"wb\")\n",
    "        fp.write(response2.content)\n",
    "        fp.close()\n",
    "print(count)\n",
    "    "
   ]
  }
 ],
 "metadata": {
  "kernelspec": {
   "display_name": "Python 3",
   "language": "python",
   "name": "python3"
  },
  "language_info": {
   "codemirror_mode": {
    "name": "ipython",
    "version": 3
   },
   "file_extension": ".py",
   "mimetype": "text/x-python",
   "name": "python",
   "nbconvert_exporter": "python",
   "pygments_lexer": "ipython3",
   "version": "3.6.5"
  }
 },
 "nbformat": 4,
 "nbformat_minor": 2
}
