{
 "cells": [
  {
   "cell_type": "code",
   "execution_count": null,
   "metadata": {},
   "outputs": [],
   "source": [
    "Develope MVT using Django to support below functionalities:\n",
    "    Care receiver and Care giver registration\n",
    "    Care receiver - allocate funds\n",
    "    Care receiver- Approve request from care giver\n",
    "    Care receiver can accept the care from only one person at a time\n",
    "    Care giver - request to care receivers\n",
    "    Care giver - can see the amount earned on monthly basis \n",
    "    Care giver - Can provide care to at max 4 care receivers at a time\n",
    "    Care giver and care receiver can provide reviews and ratings \n"
   ]
  },
  {
   "cell_type": "code",
   "execution_count": null,
   "metadata": {},
   "outputs": [],
   "source": [
    "2 Types of User:\n",
    "    Elder\n",
    "    Younger "
   ]
  },
  {
   "cell_type": "code",
   "execution_count": null,
   "metadata": {},
   "outputs": [],
   "source": [
    "Elder/Yonger:\n",
    "    name \n",
    "    email \n",
    "    contact number\n",
    "    password   \n",
    "    \n",
    "    age\n",
    "    gender \n",
    "    address \n",
    "    profilepic\n",
    "    user_type/is_younger\n",
    "    \n",
    "    "
   ]
  },
  {
   "cell_type": "code",
   "execution_count": null,
   "metadata": {},
   "outputs": [],
   "source": [
    "1. Signup as Younger /Singn up as Elder \n",
    "2. Registration Page : \n",
    "    name \n",
    "    email \n",
    "    contact number\n",
    "    password \n",
    "3. When user is created ,if elder create a obj in care seeker class\n"
   ]
  },
  {
   "cell_type": "code",
   "execution_count": null,
   "metadata": {},
   "outputs": [],
   "source": [
    "User(AbstarctUser):\n",
    "    name \n",
    "    email \n",
    "    contact number\n",
    "    password   \n",
    "    \n",
    "    age\n",
    "    gender \n",
    "    address \n",
    "    profilepic\n",
    "    user_type/is_younger\n",
    "    \n",
    "    \n",
    "CareSeeker:\n",
    "    user : User\n",
    "    funds = 0\n",
    "    is_available \n",
    "    \n",
    "    allocate_fund(slef,amount):\n",
    "        self.fund += amount\n",
    "        \n",
    "CareTaker:\n",
    "    user : User\n",
    "    earnings\n",
    "    active_care_taker_count : 0\n",
    "     \n",
    "    \n",
    "Requests:\n",
    "    careseeker\n",
    "    caregiver \n",
    "    timestamp\n",
    "    start date \n",
    "    end date\n",
    "    status : Approved\n",
    "             Rejected \n",
    "             Pending \n",
    "             completed\n",
    "             Active \n",
    "                \n",
    "Transactions:\n",
    "    careseeker\n",
    "    caregiver\n",
    "    amount \n",
    "    timestamp \n",
    "    \n",
    "    \n",
    "Review :\n",
    "    review_for : User\n",
    "    review_by : User\n",
    "    msg \n",
    "    rating "
   ]
  },
  {
   "cell_type": "code",
   "execution_count": null,
   "metadata": {},
   "outputs": [],
   "source": [
    "Add Funds :\n",
    "    1. Go to my profile \n",
    "    2. Allocate funds\n",
    "    3. Enter the amount and confirm \n"
   ]
  },
  {
   "cell_type": "code",
   "execution_count": null,
   "metadata": {},
   "outputs": [],
   "source": [
    "care_seeker_obj = CarSeeker.objects.get()\n",
    "care_seeker_obj.allocate_fund(amount)"
   ]
  },
  {
   "cell_type": "code",
   "execution_count": null,
   "metadata": {},
   "outputs": [],
   "source": [
    "Make Request  :\n",
    "    1. View all care seekers\n",
    "    2. View elder profile \n",
    "    3. Button : Request\n",
    "        1. Check if available for care or not \n",
    "        2. Check the current care count if 4 then do not allow to make the request\n",
    "        3. If there already a pending request or rejected request do not allow to make new rquest \n",
    "    4. Success/Failure msg\n",
    "        - "
   ]
  },
  {
   "cell_type": "code",
   "execution_count": null,
   "metadata": {},
   "outputs": [],
   "source": [
    "1 if the rquest is succ :\n",
    "    create the obj and status Pending\n",
    "    update the active count \n",
    "\n",
    "    "
   ]
  },
  {
   "cell_type": "code",
   "execution_count": null,
   "metadata": {},
   "outputs": [],
   "source": [
    "Approve/Reject request :\n",
    "    1. Go to my profile \n",
    "    2. View pending request \n",
    "    3. Accept/Reject:\n",
    "        1. Check flag if is_available is false you can not approve the request \n",
    "        1. Change the request status : Approve\n",
    "        2. is_availble = False \n"
   ]
  },
  {
   "cell_type": "code",
   "execution_count": null,
   "metadata": {},
   "outputs": [],
   "source": [
    "Start the service \n",
    "    1. My active requests : \n",
    "        - approved request \n",
    "        - start the service :\n",
    "            - Change the req status to active \n",
    "            - Add start date \n",
    "            \n",
    "            \n",
    "\n",
    "End the Service :\n",
    "    \n",
    "    1. My active Service : \n",
    "        \n",
    "        - end the service :\n",
    "            - Change the req status to Completed  \n",
    "            - Add end date \n",
    "        - Transfer the amount(Signal):\n",
    "            adding the entry in transaction table \n",
    "            "
   ]
  },
  {
   "cell_type": "code",
   "execution_count": null,
   "metadata": {},
   "outputs": [],
   "source": [
    "Admin:\n",
    "    1 Reject the requests pending from  15 days \n",
    "    2.Auto complete the service "
   ]
  },
  {
   "cell_type": "code",
   "execution_count": null,
   "metadata": {},
   "outputs": [],
   "source": [
    "Auto close after 7 days:\n",
    "    1. Start the service :\n",
    "        - update the req status to Active \n",
    "        - Update the start date and end date \n",
    "        \n",
    "        \n",
    "Admin:\n",
    "    End the rquest : btn => End the request with end date today :\n",
    "                   - find all active request with end date = Today \n",
    "                   - mass update all this object :\n",
    "                        change the status to Completed "
   ]
  }
 ],
 "metadata": {
  "kernelspec": {
   "display_name": "Python 3",
   "language": "python",
   "name": "python3"
  },
  "language_info": {
   "codemirror_mode": {
    "name": "ipython",
    "version": 3
   },
   "file_extension": ".py",
   "mimetype": "text/x-python",
   "name": "python",
   "nbconvert_exporter": "python",
   "pygments_lexer": "ipython3",
   "version": "3.6.5"
  }
 },
 "nbformat": 4,
 "nbformat_minor": 2
}
