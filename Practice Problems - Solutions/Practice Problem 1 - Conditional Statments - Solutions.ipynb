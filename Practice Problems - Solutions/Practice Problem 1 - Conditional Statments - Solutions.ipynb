{
 "cells": [
  {
   "cell_type": "markdown",
   "metadata": {},
   "source": [
    "1.Given two numbers, print their sum. However, if the two numbers are the same, return double their sum.\n"
   ]
  },
  {
   "cell_type": "code",
   "execution_count": 15,
   "metadata": {},
   "outputs": [
    {
     "name": "stdout",
     "output_type": "stream",
     "text": [
      "80\n"
     ]
    }
   ],
   "source": [
    "num1 = 20\n",
    "num2 = 20\n",
    "\n",
    "if num1 == num2:\n",
    "    print((num1 + num2) * 2)\n",
    "else:\n",
    "    print(num1 + num2)"
   ]
  },
  {
   "cell_type": "markdown",
   "metadata": {},
   "source": [
    "2.Given a Cost price and Selling price of a product,write program to calculate profit or loss\t"
   ]
  },
  {
   "cell_type": "code",
   "execution_count": 16,
   "metadata": {},
   "outputs": [
    {
     "name": "stdout",
     "output_type": "stream",
     "text": [
      "Loss of : 100\n"
     ]
    }
   ],
   "source": [
    "cost_price = 200\n",
    "selling_price = 100\n",
    "\n",
    "if selling_price > cost_price:\n",
    "    print(\"Profit of :\",selling_price - cost_price)\n",
    "elif cost_price > selling_price:\n",
    "    print(\"Loss of :\", cost_price - selling_price)\n",
    "else:\n",
    "    print(\"No Profit No Loss\")"
   ]
  },
  {
   "cell_type": "markdown",
   "metadata": {},
   "source": [
    "3.Write a program to input basic salary of an employee and calculate gross salary according to given conditions.\n",
    "Basic Salary <= 10000 : HRA = 20%, DA = 80%\n",
    "Basic Salary is between 10001 to 20000 : HRA = 25%, DA = 90%\n",
    "Basic Salary >= 20001 : HRA = 30%, DA = 95% "
   ]
  },
  {
   "cell_type": "code",
   "execution_count": 17,
   "metadata": {},
   "outputs": [
    {
     "name": "stdout",
     "output_type": "stream",
     "text": [
      "32250.0\n"
     ]
    }
   ],
   "source": [
    "basic_salary = 15000\n",
    "\n",
    "if basic_salary <= 10000:\n",
    "    hra = (basic_salary * 20) / 100\n",
    "    da = (basic_salary * 80) / 100\n",
    "elif basic_salary <= 20000:\n",
    "    hra = (basic_salary * 25) / 100\n",
    "    da = (basic_salary * 90) / 100\n",
    "else:\n",
    "    hra = (basic_salary * 30) / 100\n",
    "    da = (basic_salary * 95) / 100\n",
    "    \n",
    "gross_salary = basic_salary + hra + da\n",
    "print(gross_salary)    "
   ]
  },
  {
   "cell_type": "markdown",
   "metadata": {},
   "source": [
    "4.Write a program to check if given year is leap year or not.\n",
    "\n",
    "\tLeap year : A year is said to be leap year, if the year is exactly divisible by 4 but and not divisible by 100"
   ]
  },
  {
   "cell_type": "code",
   "execution_count": 18,
   "metadata": {},
   "outputs": [
    {
     "name": "stdout",
     "output_type": "stream",
     "text": [
      "Leap Year\n"
     ]
    }
   ],
   "source": [
    "year = 2000\n",
    "\n",
    "if year % 4 == 0 and year % 100 != 0:\n",
    "    print(\"Leap Year\")\n",
    "elif year % 4 == 0 and year % 100 == 0 and year % 400 == 0:\n",
    "    print(\"Leap Year\")\n",
    "else:\n",
    "    print(\"Not a Leap Year\")"
   ]
  },
  {
   "cell_type": "markdown",
   "metadata": {},
   "source": [
    "5.Write a program to check whether triangle is equilateral, scalene or isosceles\n",
    "\tA triangle is said Equilateral Triangle, if all its sides are equal. If a, b, c are three sides of triangle. Then, \tthe triangle is equilateral only if a == b == c.\n",
    "\n",
    "\tA triangle is said Isosceles Triangle, if its two sides are equal. If a, b, c are three sides of triangle. Then, the \ttriangle is isosceles if either a == b or a == c or b == c.\n",
    "\n",
    "\tA triangle is said Scalene Triangle, if none of its sides are equal. "
   ]
  },
  {
   "cell_type": "code",
   "execution_count": 4,
   "metadata": {},
   "outputs": [
    {
     "name": "stdout",
     "output_type": "stream",
     "text": [
      "Equilateral Triangle\n"
     ]
    }
   ],
   "source": [
    "side_a = 4\n",
    "side_b = 4\n",
    "side_c = 4\n",
    "\n",
    "if side_a == side_b == side_c:\n",
    "    print(\"Equilateral Triangle\")\n",
    "elif side_a == side_b or side_a == side_c or side_b == side_c:\n",
    "    print(\"Isosceles Triangle\")\n",
    "else :\n",
    "    print(\"Scalene Triangle\")"
   ]
  }
 ],
 "metadata": {
  "kernelspec": {
   "display_name": "Python 3",
   "language": "python",
   "name": "python3"
  },
  "language_info": {
   "codemirror_mode": {
    "name": "ipython",
    "version": 3
   },
   "file_extension": ".py",
   "mimetype": "text/x-python",
   "name": "python",
   "nbconvert_exporter": "python",
   "pygments_lexer": "ipython3",
   "version": "3.6.5"
  }
 },
 "nbformat": 4,
 "nbformat_minor": 2
}
