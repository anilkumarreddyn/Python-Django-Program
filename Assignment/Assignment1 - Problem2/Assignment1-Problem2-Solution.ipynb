{
 "cells": [
  {
   "cell_type": "markdown",
   "metadata": {},
   "source": [
    "## Problem Statement"
   ]
  },
  {
   "cell_type": "markdown",
   "metadata": {},
   "source": [
    "### Given a dict of tickets(\"to\":\"from\")\n",
    "\n",
    "{\"Chennai\":\"Banglore\",\"Bombay\":\"Delhi\",\"Goa\":\"Chennai\",\"Delhi\":\"Goa\"} find out the sequence of travel.\n",
    "\n",
    "Expected Output : Bombay->Delhi, Delhi->Goa, Goa->Chennai, Chennai->Banglore\n",
    "\n",
    "Function Name : travel_sequence Input : dict Output : list ['Bombay->Delhi', 'Delhi->Goa', 'Goa->Chennai', 'Chennai->Banglore']"
   ]
  },
  {
   "cell_type": "markdown",
   "metadata": {},
   "source": [
    "### Design"
   ]
  },
  {
   "cell_type": "markdown",
   "metadata": {},
   "source": [
    "<img src=\"https://github.com/edyoda/Python-Django-Program/blob/master/Assignment/Assignment1%20-%20Problem2/Design-Problem%202.png?raw=true\">"
   ]
  },
  {
   "cell_type": "markdown",
   "metadata": {},
   "source": [
    "### Code"
   ]
  },
  {
   "cell_type": "code",
   "execution_count": 81,
   "metadata": {},
   "outputs": [
    {
     "name": "stdout",
     "output_type": "stream",
     "text": [
      "Bombay\n",
      "Bombay->Delhi, Delhi->Goa, Goa->Chennai, Chennai->Banglore, "
     ]
    }
   ],
   "source": [
    "#Code for Algorithm to identify start point\n",
    "def find_starting_location(travel_dict):\n",
    "    start_points = set(travel_dict.keys())\n",
    "    stop_points  = set(travel_dict.values())\n",
    "    \n",
    "    #Only one start point expected. Getting first value\n",
    "    return start_points.difference(stop_points).pop()\n",
    "   \n",
    "#Code for identifying stop point given a start point    \n",
    "def find_stop_location_from_start_location(start_location,travel_dict):\n",
    "    journey = []\n",
    "    \n",
    "    while True:\n",
    "        journey.append(start_location)\n",
    "        if start_location in travel_dict:\n",
    "            stop_location = travel_dict[start_location]\n",
    "            start_location = stop_location\n",
    "        else:\n",
    "            return journey\n",
    "\n",
    "def travel_sequence(travel_dict):\n",
    "    #find the starting point\n",
    "    start_location = find_starting_location(travel_dict)\n",
    "    print (start_location)\n",
    "    \n",
    "    #find the stops & put them in list\n",
    "    journey = find_stop_location_from_start_location(start_location, travel_dict)\n",
    "    \n",
    "    iternary = []\n",
    "    \n",
    "    for location_id in range(len(journey)):\n",
    "        if location_id + 1 < len(journey):\n",
    "            iternary.append(journey[location_id]+'->'+journey[location_id+1])\n",
    "    \n",
    "    return iternary\n",
    "        \n",
    "travel_dict = {\"Chennai\":\"Banglore\",\"Bombay\":\"Delhi\",\"Goa\":\"Chennai\",\"Delhi\":\"Goa\"}    \n",
    "iternary = travel_sequence(travel_dict)\n",
    "\n",
    "for start_stop in iternary:\n",
    "    print (start_stop,end=', ')"
   ]
  },
  {
   "cell_type": "code",
   "execution_count": 82,
   "metadata": {},
   "outputs": [],
   "source": [
    "travel_dict2 = {\"Chennai\":\"Bangalore\",\"Bangalore\":\"Goa\"}"
   ]
  },
  {
   "cell_type": "code",
   "execution_count": 77,
   "metadata": {},
   "outputs": [
    {
     "name": "stdout",
     "output_type": "stream",
     "text": [
      "Chennai\n"
     ]
    },
    {
     "data": {
      "text/plain": [
       "['Chennai->Bangalore', 'Bangalore->Goa']"
      ]
     },
     "execution_count": 77,
     "metadata": {},
     "output_type": "execute_result"
    }
   ],
   "source": [
    "travel_sequence(travel_dict2)"
   ]
  },
  {
   "cell_type": "code",
   "execution_count": null,
   "metadata": {},
   "outputs": [],
   "source": []
  }
 ],
 "metadata": {
  "kernelspec": {
   "display_name": "Python 3",
   "language": "python",
   "name": "python3"
  },
  "language_info": {
   "codemirror_mode": {
    "name": "ipython",
    "version": 3
   },
   "file_extension": ".py",
   "mimetype": "text/x-python",
   "name": "python",
   "nbconvert_exporter": "python",
   "pygments_lexer": "ipython3",
   "version": "3.7.3"
  }
 },
 "nbformat": 4,
 "nbformat_minor": 2
}
