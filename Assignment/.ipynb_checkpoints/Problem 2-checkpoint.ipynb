{
 "cells": [
  {
   "cell_type": "code",
   "execution_count": 14,
   "metadata": {},
   "outputs": [
    {
     "name": "stdout",
     "output_type": "stream",
     "text": [
      "Bombay -> Delhi,Delhi -> Goa,Goa -> Chennai,Chennai -> Banglore,"
     ]
    }
   ],
   "source": [
    "#Code for Algorithm to identify start point\n",
    "def find_starting_location(travel_dict):\n",
    "    start_points = travel_dict.keys()\n",
    "    stop_points  = travel_dict.values()\n",
    "    \n",
    "    return list((set(start_points) - set(stop_points)))[0]\n",
    "   \n",
    "#Code for identifying stop point given a start point    \n",
    "def find_stop_location_from_start_location(start_location,travel_dict):\n",
    "    journey = []\n",
    "    \n",
    "    while True:\n",
    "        journey.append(start_location)\n",
    "        if start_location in travel_dict:\n",
    "            stop_location = travel_dict[start_location]\n",
    "            start_location = stop_location\n",
    "        else:\n",
    "            return journey\n",
    "\n",
    "def travel_sequence(travel_dict):\n",
    "    start_location = find_starting_location(travel_dict)\n",
    "    journey = find_stop_location_from_start_location(start_location, travel_dict)\n",
    "    \n",
    "    for location_id in range(len(journey)):\n",
    "        if location_id + 1 < len(journey):\n",
    "            print (journey[location_id],'->',journey[location_id+1], end =', ')\n",
    "        \n",
    "    \n",
    "    \n",
    "travel_sequence({\"Chennai\":\"Banglore\",\"Bombay\":\"Delhi\",\"Goa\":\"Chennai\",\"Delhi\":\"Goa\"})"
   ]
  },
  {
   "cell_type": "code",
   "execution_count": null,
   "metadata": {},
   "outputs": [],
   "source": []
  },
  {
   "cell_type": "code",
   "execution_count": null,
   "metadata": {},
   "outputs": [],
   "source": []
  }
 ],
 "metadata": {
  "kernelspec": {
   "display_name": "Python 3",
   "language": "python",
   "name": "python3"
  },
  "language_info": {
   "codemirror_mode": {
    "name": "ipython",
    "version": 3
   },
   "file_extension": ".py",
   "mimetype": "text/x-python",
   "name": "python",
   "nbconvert_exporter": "python",
   "pygments_lexer": "ipython3",
   "version": "3.7.3"
  }
 },
 "nbformat": 4,
 "nbformat_minor": 2
}
