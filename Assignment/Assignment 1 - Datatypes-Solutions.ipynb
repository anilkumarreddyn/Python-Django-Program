{
 "cells": [
  {
   "cell_type": "markdown",
   "metadata": {},
   "source": [
    "    1. In the pre-smartphone era,each number key is assigned a subset of the alphabet {a,b,…,z}. \n",
    "    - 2 is assigned {a,b,c}, \n",
    "    - 3 is assigned {d,e,f} \n",
    "    - 4 is assigned {g,h,i} \n",
    "    - 5 is assigned {j,k,l}\n",
    "    - 6 is assigned {m,n,o} \n",
    "    - 7 is assigned {p,q,r,s}\n",
    "    - 8 is assigned {t,u,v} \n",
    "    - 9 is assigned {w,x,y,z}\n",
    "    \n",
    "    Write a function numbers_to_chars() to find the characters generated using key 9999335533. \n",
    "    Output should be \"zeke\"\n",
    "\n",
    "    Function Name : numbers_to_chars()\n",
    "    Input : Integer number sequence\n",
    "    Output : Str\n",
    "\n",
    "    Test Cases\n",
    "\n",
    "    1. numbers_to_chars(766655533) - 'pole'\n",
    "    2. numbers_to_chars(55566677778) - 'lost'\n",
    "    3. numbers_to_chars(866676665556664999) - 'topology'\n",
    "    4. numbers_to_chars(2222) - 'ca'\n",
    "    5. numbers_to_chars(22223) - 'cad'\n",
    "\n"
   ]
  },
  {
   "cell_type": "code",
   "execution_count": 24,
   "metadata": {},
   "outputs": [
    {
     "name": "stdout",
     "output_type": "stream",
     "text": [
      "topology\n"
     ]
    }
   ],
   "source": [
    "def number_to_char(input_seq):\n",
    "    \n",
    "    mapping = {2:['a', 'b', 'c'], 3:['d', 'e', 'f'], 4:['g', 'h','i'], 5:['j', 'k', 'l'], 6:['m', 'n', 'o'],\n",
    "              7:['p', 'q', 'r', 's'], 8:['t', 'u', 'v'], 9:['w', 'x', 'y', 'z']} \n",
    "    \n",
    "    output = ''    \n",
    "    index = 0\n",
    "    count = 0\n",
    "    \n",
    "    while index < len(input_seq):\n",
    "        #Compare curent and next char of input sequence, if equal continue by incrementing count\n",
    "        if index < len(input_seq)-1 and input_seq[index] == input_seq[index+1]:\n",
    "            index += 1\n",
    "            count += 1\n",
    "            continue\n",
    "        \n",
    "        #If current and next char is not equal increment the count by 1 for eg : \"23\" 2 == 3 False, Count for 2 should be 1 \n",
    "        count += 1\n",
    "        current_num = int(input_seq[index])        \n",
    "        current_num_char = len(mapping[current_num])\n",
    "\n",
    "        while count >0:            \n",
    "            char_times = count // current_num_char\n",
    "            output+= char_times*mapping[current_num][current_num_char-1]\n",
    "            count = count % current_num_char\n",
    "            current_num_char-=1\n",
    "\n",
    "        index+=1\n",
    "        count = 0\n",
    "\n",
    "    return output\n",
    "\n",
    "\n",
    "print(number_to_char('866676665556664999'))"
   ]
  },
  {
   "cell_type": "markdown",
   "metadata": {},
   "source": [
    "    Difficulty Level : Easy\n",
    "    2. Given a dict of tickets(\"to\":\"from\") {\"Chennai\":\"Banglore\",\"Bombay\":\"Delhi\",\"Goa\":\"Chennai\",\"Delhi\":\"Goa\"} \n",
    "       find out the sequence of travel. Assuming that there will be only one starting point for the journey.\n",
    "\n",
    "       Expected Output : {'Bombay':'Delhi','Delhi':'Goa','Goa':'Chennai','Chennai':'Banglore'}\n",
    "\n",
    "       Function Name : travel_sequence\n",
    "       Input : dict \n",
    "       Output : dict\n",
    "\n",
    "    Test Cases\n",
    "\n",
    "        1. travel_sequence({\"Chennai\":\"Banglore\",\"Bombay\":\"Delhi\",\"Goa\":\"Chennai\",\"Delhi\":\"Goa\"}) -  {'Bombay': 'Delhi', 'Delhi': 'Goa', 'Goa': 'Chennai', 'Chennai': 'Banglore'}\n",
    "    \n",
    "        2. travel_sequence({\"A\":\"C\",\"C\":\"D\",\"E\":\"G\",\"D\":\"E\",\"G\":\"F\"}) - {'A': 'C', 'C': 'D', 'D': 'E', 'E': 'G', 'G': 'F'}\n",
    "\n",
    "        3. travel_sequence({\"X\":\"Z\",\"Z\":\"U\",\"A\":\"B\",\"B\":\"X\"}) - {'A': 'B', 'B': 'X', 'X': 'Z', 'Z': 'U'}\n",
    "\n"
   ]
  },
  {
   "cell_type": "code",
   "execution_count": 26,
   "metadata": {},
   "outputs": [
    {
     "name": "stdout",
     "output_type": "stream",
     "text": [
      "Travel Sequence : {'Bombay': 'Delhi', 'Delhi': 'Goa', 'Goa': 'Chennai', 'Chennai': 'Banglore'}\n"
     ]
    }
   ],
   "source": [
    "def travel_sequence(tickets):\n",
    "    sequence = {}\n",
    "    all_sources = set(tickets.keys())\n",
    "    all_destinations = set(tickets.values())\n",
    "    \n",
    "    source = list(all_sources.difference(all_destinations))[0]\n",
    "    \n",
    "    for count in range(len(tickets)):\n",
    "        sequence[source] = tickets[source]\n",
    "        source = tickets[source]\n",
    "    return sequence\n",
    "\n",
    "tickets = {\"Chennai\":\"Banglore\",\"Bombay\":\"Delhi\",\"Goa\":\"Chennai\",\"Delhi\":\"Goa\"}\n",
    "print(\"Travel Sequence :\",travel_sequence(tickets))"
   ]
  },
  {
   "cell_type": "markdown",
   "metadata": {},
   "source": [
    "    3. Given a dictionary that associates the names of states with a list of the names of cities that appear in it,write a program that creates a new dictionary that associates the name of a city with the list of states that it appears in.\n",
    "\n",
    "    As an example, if the first dictionary is\n",
    "\n",
    "    Input :\n",
    "    states = {'New Hampshire': ['Concord', 'Hanover'],\n",
    "\n",
    "    'Massachusetts': ['Boston', 'Concord', 'Springfield'],\n",
    "\n",
    "    'Illinois': ['Chicago', 'Springfield', 'Peoria']\n",
    "    }\n",
    "\n",
    "    Output:\n",
    "\n",
    "    cities = {'Hanover': ['New Hampshire'],\n",
    "\n",
    "    'Chicago': ['Illinois'],'Boston': ['Massachusetts'], \n",
    "\n",
    "    'Peoria': ['Illinois'],'Concord': ['New Hampshire','Massachusetts'],\n",
    "\n",
    "    'Springfield': ['Massachusetts', 'Illinois']\n",
    "    }\n",
    "\n",
    "    Function Name : city_with_states\n",
    "    Input : dict \n",
    "    Output : dict\n",
    "\n",
    "        Test Cases\n",
    "        1. city_with_states({'New Hampshire': ['Concord', 'Hanover'],'Massachusetts': ['Boston', 'Concord',\n",
    "                'Springfield'],'Illinois': ['Chicago', 'Springfield', 'Peoria'] })\n",
    "           Output : \n",
    "           {'Hanover': ['New Hampshire'],'Chicago': ['Illinois'],'Boston': ['Massachusetts'],'Peoria': \n",
    "                 ['Illinois'],'Concord': ['New Hampshire','Massachusetts'],'Springfield': ['Massachusetts', 'Illinois'] }\n",
    "\n",
    "        2. city_with_states('A':['AA','AB'], 'B':['BB','BC'], 'C':['CC','CD','BB'])\n",
    "        \n",
    "           Output { 'AA':['A'], 'AB':['A'], 'BB':['B','C'], 'BC':['B'], 'CC':['C'], 'CD':['C'] }\n",
    "\n"
   ]
  },
  {
   "cell_type": "code",
   "execution_count": 29,
   "metadata": {},
   "outputs": [
    {
     "name": "stdout",
     "output_type": "stream",
     "text": [
      "Output : {'Concord': ['New Hampshire', 'Massachusetts'], 'Hanover': ['New Hampshire'], 'Boston': ['Massachusetts'], 'Springfield': ['Massachusetts', 'Illinois'], 'Chicago': ['Illinois'], 'Peoria': ['Illinois']}\n"
     ]
    }
   ],
   "source": [
    "def city_with_states(states):\n",
    "    all_cities = {}\n",
    "    \n",
    "    for state,cities in states.items():\n",
    "        for city in cities:\n",
    "            if city not in all_cities:\n",
    "                all_cities[city] = [state]\n",
    "            else:\n",
    "                all_cities[city].append(state)\n",
    "    return all_cities\n",
    "\n",
    "states = {'New Hampshire': ['Concord', 'Hanover'],'Massachusetts': ['Boston', 'Concord', 'Springfield'],'Illinois': ['Chicago', 'Springfield', 'Peoria'] }\n",
    "print(\"Output :\",city_with_states(states))"
   ]
  },
  {
   "cell_type": "markdown",
   "metadata": {},
   "source": [
    "4.How do you check if a given String contains valid parentheses?\n",
    "Given a string containing just the characters '(', ')', '{', '}', '[' and ']', write a program in python to check if the input string is valid. The brackets must close in the correct order, \"()\" and \"()[]{}\" are all valid but \"(]\" and \"([)]\" are not.\n",
    "\n",
    "Function Name : check_parentheses\n",
    "Input : str\n",
    "Output : True/False\n",
    "\n",
    "Test Cases\n",
    "1. check_parentheses(\"()[]{}\") - True\n",
    "2. check_parentheses(\"()}[]{\") - False\n",
    "\n",
    "<hr>"
   ]
  },
  {
   "cell_type": "code",
   "execution_count": 22,
   "metadata": {},
   "outputs": [
    {
     "name": "stdout",
     "output_type": "stream",
     "text": [
      "False\n"
     ]
    }
   ],
   "source": [
    "def check_parentheses(brackets):\n",
    "    bracket_map = {\"(\": \")\", \"[\": \"]\",  \"{\": \"}\"}\n",
    "    open_brackets = ['(','[','{']\n",
    "    stack = []\n",
    "    for bracket in brackets:\n",
    "        if bracket in open_brackets:\n",
    "            stack.append(bracket)\n",
    "        elif stack and bracket == bracket_map[stack[-1]]:\n",
    "                stack.pop()\n",
    "        else:\n",
    "            return False\n",
    "    return stack == []\n",
    "\n",
    "s='())'\n",
    "print(check_parentheses(s))"
   ]
  },
  {
   "cell_type": "markdown",
   "metadata": {},
   "source": [
    "    5.Write a program to convert Integer to Roman String. For example, if a given integer is 5 then your program should print \"V\".\n",
    "\n",
    "    Function Name : int_roman\n",
    "    Input : int\n",
    "    Output : str\n",
    "\n",
    "    Test Cases\n",
    "\n",
    "    1. int_roman(1001) - MI\n",
    "    2. int_roman(1100) - MC\n",
    "    3. int_roman(150) - CL\n",
    "\n"
   ]
  },
  {
   "cell_type": "code",
   "execution_count": 38,
   "metadata": {},
   "outputs": [
    {
     "name": "stdout",
     "output_type": "stream",
     "text": [
      "[1000, 900, 500, 400, 100, 90, 50, 40, 10, 9, 5, 4, 1]\n",
      "C\n"
     ]
    }
   ],
   "source": [
    "def int_roman(number):\n",
    "    roman_symbols = {1: 'I', 4: 'IV', 5:'V', 9: 'IX',\n",
    "    10: 'X', 40: 'XL', 50: 'L', 90:'XC',\n",
    "    100: 'C', 400:'CD', 500: 'D', 900:'CM',\n",
    "    1000:'M'\n",
    "    }\n",
    "    \n",
    "    highest_dec_values = sorted(roman_symbols.keys(),reverse= True)\n",
    "    print(highest_dec_values)\n",
    "    if number>=4000:\n",
    "        return False\n",
    "    d='' \n",
    "    \n",
    "    index = 0\n",
    "    while number:\n",
    "        div = number // highest_dec_values[index]\n",
    "        number %= highest_dec_values[index]\n",
    "        while div: \n",
    "            d+=roman_symbols[highest_dec_values[index]]\n",
    "            div -= 1\n",
    "        index += 1\n",
    "    return d\n",
    "\n",
    "number=100\n",
    "print(int_roman(number))"
   ]
  },
  {
   "cell_type": "markdown",
   "metadata": {},
   "source": [
    "    6.Write a program utility that counts the number of lines of actual python code in a. For the purpose of this exercise, a line is counted if it contains something other than whitespace or text in a comment.\n",
    "\n",
    "    remember that comment start sequences that appear inside python strings should be ignored.\n",
    "\n",
    "    Function Name : count_code_lines\n",
    "    Input : str\n",
    "    Output : int"
   ]
  },
  {
   "cell_type": "code",
   "execution_count": null,
   "metadata": {},
   "outputs": [],
   "source": [
    "input_code = \"\"\"\n",
    "#Linear search implementation\n",
    "#Takes list and a key as input and returns True or False as answer\n",
    "def linear_saerch(l,key):\n",
    "    for value in l:\n",
    "        if key == value:\n",
    "            return True #Return True is key exist\n",
    "    else:\n",
    "        return False #Return False if key does not exist\n",
    "\n",
    "l = [100,200,300,400,500,600]\n",
    "key = 500\n",
    "result = linear_search(l,key)\n",
    "print(result)\n",
    "\"\"\""
   ]
  },
  {
   "cell_type": "code",
   "execution_count": 25,
   "metadata": {},
   "outputs": [
    {
     "data": {
      "text/plain": [
       "\"\\n#Linear search implementation\\n#Takes list and a key as input and returns True or False as answer\\n'''Time complexity is O(n)'''\\n\\n@classmethod\\ndef linear_search(l,key):\\n    #function definition\\n    for value in l:\\n        if key == value:\\n            return True #Return True is key exist\\n    else:\\n        return False #Return False if key does not exist\\n\\n\\nl = [100,200,300,400,500,600]\\nkey = 500\\nresult = linear_search(l,key)\\n\\n\\nprint(result)\\n\""
      ]
     },
     "execution_count": 25,
     "metadata": {},
     "output_type": "execute_result"
    }
   ],
   "source": [
    "# Test Cases:\n",
    "    \n",
    "# 1. Input : \n",
    "\"\"\"\n",
    "#Linear search implementation\n",
    "#Takes list and a key as input and returns True or False as answer\n",
    "def linear_search(l,key):\n",
    "    for value in l:\n",
    "        if key == value:\n",
    "            return True #Return True is key exist\n",
    "    else:\n",
    "        return False #Return False if key does not exist\n",
    "\n",
    "\n",
    "l = [100,200,300,400,500,600]\n",
    "key = 500\n",
    "result = linear_search(l,key)\n",
    "print(result)\n",
    "\"\"\"\n",
    "\n",
    "# Expected Output: 10\n",
    "    \n",
    "# 2. Input : \n",
    "\"\"\"\n",
    "#Linear search implementation\n",
    "#Takes list and a key as input and returns True or False as answer\n",
    "'''Time complexity is O(n)'''\n",
    "\n",
    "@classmethod\n",
    "def linear_search(l,key):\n",
    "    #function definition\n",
    "    for value in l:\n",
    "        if key == value:\n",
    "            return True #Return True is key exist\n",
    "    else:\n",
    "        return False #Return False if key does not exist\n",
    "\n",
    "\n",
    "l = [100,200,300,400,500,600]\n",
    "key = 500\n",
    "result = linear_search(l,key)\n",
    "\n",
    "\n",
    "print(result)\n",
    "\"\"\"\n",
    "\n",
    "# Expected Output: 12\n",
    "    \n",
    "    "
   ]
  },
  {
   "cell_type": "code",
   "execution_count": 49,
   "metadata": {},
   "outputs": [
    {
     "name": "stdout",
     "output_type": "stream",
     "text": [
      "No. of lines of Python Code : 12\n"
     ]
    }
   ],
   "source": [
    "import re\n",
    "def count_code_lines(code):\n",
    "\n",
    "    lines = code.split(\"\\n\")\n",
    "    not_comment = re.compile(\"^[^#]\")\n",
    "    line_count = 0\n",
    "    for line in lines:\n",
    "        if line != '' and re.search(not_comment,line.strip()):\n",
    "            line_count += 1\n",
    "    return line_count\n",
    "\n",
    "input_code = \"\"\"\n",
    "#Linear search implementation\n",
    "#Takes list and a key as input and returns True or False as answer\n",
    "'''Time complexity is O(n)'''\n",
    "\n",
    "@classmethod\n",
    "def linear_search(l,key):\n",
    "    #function definition\n",
    "    for value in l:\n",
    "        if key == value:\n",
    "            return True #Return True is key exist\n",
    "    else:\n",
    "        return False #Return False if key does not exist\n",
    "\n",
    "\n",
    "l = [100,200,300,400,500,600]\n",
    "key = 500\n",
    "result = linear_search(l,key)\n",
    "\n",
    "\n",
    "print(result)\n",
    "\"\"\"\n",
    "print(\"No. of lines of Python Code :\",count_code_lines(input_code))"
   ]
  },
  {
   "cell_type": "markdown",
   "metadata": {},
   "source": [
    "    7.Write a program to check the strength of a supplied password\n",
    "\n",
    "    The length of the password must be at least 8 characters in length\n",
    "    The password must contain at least 1 capital letter\n",
    "    The password must contain at least 1 digit\n",
    "    The password must contain at least 1 special character and allowed special characters are (!,@,#,$,&)\n",
    "\n",
    "    We need to provide feedback to the user about the strength of their password\n",
    "\n",
    "    Provide the user with a list of reasons why their password is 'weak'                                                                                       \n",
    "    Function Name : check_password_strength\n",
    "    Input : str\n",
    "    Output : tuple (str,list) eg (\"Weak\",[\"The password must contain at least 1 capital letter\"])                                                                                          "
   ]
  },
  {
   "cell_type": "markdown",
   "metadata": {},
   "source": [
    "    Test Cases:\n",
    "    \n",
    "    1. Input : \"Abcd@1234\"\n",
    "\n",
    "       Expected Output: (\"Valid\",[])\n",
    "   \n",
    "    \n",
    "    2. Input : \"Abc@1\"\n",
    "\n",
    "       Expected Output: (\"InValid\",[\"The length of the password must be at least 8 characters in length\"\n",
    "    \n",
    "    3. Input : \"abc12\"\n",
    "\n",
    "       Expected Output: (\"InValid\",[\"The length of the password must be at least 8 characters in length\",\"The password must contain at least 1 special character and allowed special characters are (!,@,#,$,&)\",\"The password must contain at least 1 capital letter\"])\n",
    "   \n",
    "   \n",
    "    4. Input : \"aBcD**#&\"\n",
    "\n",
    "       Expected Output: (\"InValid\",[\"The password must contain at least 1 special character and allowed special characters are (!,@,#,$,&)\",\"The password must contain at least 1 digit\"])\n",
    "\n",
    "    "
   ]
  },
  {
   "cell_type": "code",
   "execution_count": 47,
   "metadata": {},
   "outputs": [
    {
     "name": "stdout",
     "output_type": "stream",
     "text": [
      "('Weak', ['The password must contain at least 1 digit', 'The password must contain at least 1 special character and allowed special characters are (!,@,#,$,&)'])\n"
     ]
    }
   ],
   "source": [
    "import re\n",
    "def check_password_strength(string):\n",
    "    reasons = []\n",
    "\n",
    "    if len(string) < 8:\n",
    "        reasons.append(\"The length of the password must be at least 8 characters in length\")\n",
    "\n",
    "    if not re.search(\"[A-Z]\",string):\n",
    "        reasons.append(\"The password must contain at least 1 capital letter\")\n",
    "    \n",
    "    if not re.search(\"[0-9]\",string):\n",
    "        reasons.append(\"The password must contain at least 1 digit\")\n",
    "\n",
    "    if re.search(\"\\W\",string):\n",
    "        if re.search(\"[^!@#$&\\w]\",string):\n",
    "\n",
    "            reasons.append(\"The password must contain at least 1 special character and allowed special characters are (!,@,#,$,&)\")\n",
    "    else:\n",
    "        reasons.append(\"The password must contain at least 1 special character and allowed special characters are (!,@,#,$,&)\")\n",
    "\n",
    "    if reasons:\n",
    "        return (\"Weak\", reasons)\n",
    "    else:\n",
    "        return (\"Strong\", []) \n",
    "\n",
    "\n",
    "results = check_password_strength(\"aBcD**#&\")\n",
    "print(results)"
   ]
  },
  {
   "cell_type": "markdown",
   "metadata": {},
   "source": [
    "    8. Check if given sentence is syntactically correct or not\n",
    "\n",
    "    A simple sentence if syntactically correct if it fulfills given rules. The following are given rules.\n",
    "     - Sentence must start with a Uppercase character (e.g. Noun/ I/ We/ He etc.)\n",
    "     - There must be spaces between words.\n",
    "     - Then the sentence must end with a full stop(.).\n",
    "     - Two continuous spaces are not allowed.\n",
    "     - Two continuous uppercase characters are not allowed.\n",
    "     - However the sentence can end after an uppercase character.\n",
    "\n",
    "    Function Name : check_sentence\n",
    "    Input : str\n",
    "    Output : tuple (True/False,list) eg (False,[\"There must be spaces between words.\"]) "
   ]
  },
  {
   "cell_type": "markdown",
   "metadata": {},
   "source": [
    "    Test Cases:\n",
    "    \n",
    "    1. Input : \"An important part of my life has been the people who stood by me.\"\n",
    "    \n",
    "       Output : (True,[])\n",
    "    \n",
    "    2. Input : \"AN important part of my life has been the people who stood by me\"\n",
    "    \n",
    "       Output : (False,[\"the sentence must end with a full stop(.)\",\"Two continuous uppercase characters are not allowed.\"])\n",
    "    \n",
    "    3. Input : \"An important  part of my life has been the people who stood by me  .\"\n",
    "    \n",
    "       Output : (False,[\"Two continuous spaces are not allowed.\"])\n",
    "\n",
    "    \n"
   ]
  },
  {
   "cell_type": "code",
   "execution_count": 13,
   "metadata": {},
   "outputs": [
    {
     "name": "stdout",
     "output_type": "stream",
     "text": [
      "(False, ['Sentence must end with a full-stop.'])\n"
     ]
    }
   ],
   "source": [
    "import re\n",
    "def check_sentence(string):\n",
    "    reasons = []\n",
    "\n",
    "    if not string[0].isupper():\n",
    "        reasons.append(\"Sentence must start with an Uppercase character.\")\n",
    "\n",
    "    if ' ' not in string:\n",
    "        reasons.append(\"Spaces must be present between words in a sentence.\")\n",
    "\n",
    "    if '.' != string[-1] or re.search(\"\\..+\",string):\n",
    "        reasons.append(\"Sentence must end with a full-stop.\")\n",
    "\n",
    "    if '  ' in string:\n",
    "        reasons.append(\"Continuous spaces are not allowed.\")\n",
    "        \n",
    "    if re.search(\"[A-Z][A-Z]\",string):\n",
    "        reasons.append(\"Continuous uppercase characters are not allowed.\")    \n",
    "\n",
    "    if reasons:\n",
    "        return (False, reasons)\n",
    "    else:\n",
    "        return (True, [\"Your sentence is syntactically correct!\"])\n",
    "\n",
    "\n",
    "results = check_sentence(\"An important part of my life has been the people who stood by me..\") \n",
    "print(results)"
   ]
  },
  {
   "cell_type": "markdown",
   "metadata": {},
   "source": [
    "    9.Given an array arr[] of integers and an integer K, the task is to find the greatest contiguous sub-array of size K. \n",
    "\n",
    "    Sub-array X is said to be greater than sub-array Y if the first non-matching element in both the sub-arrays has a greater value in X than in Y.\n",
    "\n",
    "    For example : \n",
    "    Input: arr[] = {1, 4, 3, 2, 5}, K = 4\n",
    "    Output: 4 3 2 5\n",
    "    Two subarrays are {1, 4, 3, 2} and {4, 3, 2, 5}. First non-matching element from array1 and array 2 : 1 and 4 as 4 is greater \n",
    "    Hence, the greater one is {4, 3, 2, 5}\n",
    "\n",
    "    Function Name : greatest_sub_array()\n",
    "    Input : list\n",
    "    Output : list"
   ]
  },
  {
   "cell_type": "markdown",
   "metadata": {},
   "source": [
    "Test cases:\n",
    "    \n",
    "    1. Input : arr = [1,4,3,2,5] k = 3\n",
    "        \n",
    "       Expected output : [4,3,2]\n",
    "        \n",
    "    2. Input : arr = [1,4,5,5,3,1,5] k = 4\n",
    "        \n",
    "       Expected output : [5,5,3,1]\n",
    "        \n",
    "    3. Input : arr = [1,5,5,5,4,4,3,3,2] k = 3\n",
    "        \n",
    "       Expected output : [5,5,5]\n",
    "        \n",
    "    4. Input : arr = [1,5,5,5,4,4,3,3,2] k = 2\n",
    "        \n",
    "       Expected output : [5,5]\n",
    "        \n",
    "    "
   ]
  },
  {
   "cell_type": "code",
   "execution_count": null,
   "metadata": {},
   "outputs": [],
   "source": [
    "def greatest_sub_array(arr, k):\n",
    "\n",
    "    all_sub_array = []\n",
    "    \n",
    "    for i in range(0, len(arr)-k+1):\n",
    "        all_sub_array.append(arr[i:i+k])\n",
    "        \n",
    "    max_sub_array = sorted(all_sub_array)[-1]    \n",
    "    return max_sub_array\n",
    "\n",
    "arr = [1,4,5,5,3,1,5]\n",
    "k = 4\n",
    "print(greatest_sub_array(arr, k))"
   ]
  },
  {
   "cell_type": "markdown",
   "metadata": {},
   "source": [
    "    10.Given a list of N integers. The task is to eliminate the minimum number of elements such that in the resulting list the sum of any two adjacent values is even.\n",
    "\n",
    "    Numbers = [1, 3, 5, 4, 2]\n",
    "    Output = [1, 3, 5] \n",
    "    Total elements removed 2\n",
    "    Elements to be removed [4,2]\n",
    "\n",
    "    Function Name : adj_sum_even()\n",
    "    Input : list\n",
    "    Output : tuple(int,list)"
   ]
  },
  {
   "cell_type": "markdown",
   "metadata": {},
   "source": [
    "Test Cases:\n",
    "    \n",
    "    1. Input : [1,4,3,6,8,5,7]\n",
    "\n",
    "       Expected Output: (3,[1,3,5,7])\n",
    "   \n",
    "    \n",
    "    2. Input : [1,4,2,3,6,5]\n",
    "\n",
    "       Expected Output: (3,[1,3,5]) or (3,[4,2,6])\n",
    "   \n",
    "    \n",
    "    3. Input : [1,2,2,4,3]\n",
    "\n",
    "       Expected Output: (2,[2,2,4]) "
   ]
  },
  {
   "cell_type": "code",
   "execution_count": 17,
   "metadata": {},
   "outputs": [
    {
     "name": "stdout",
     "output_type": "stream",
     "text": [
      "(2, [2, 2, 4])\n"
     ]
    }
   ],
   "source": [
    "def adj_sum_even(nums):\n",
    "    even_nums = []\n",
    "    odd_nums = []\n",
    "    for value in nums:\n",
    "        if value % 2 ==0:\n",
    "            even_nums.append(value)\n",
    "        else:\n",
    "            odd_nums.append(value)\n",
    "    if len(even_nums) <= len(odd_nums):\n",
    "        return(len(even_nums),odd_nums)\n",
    "    else:\n",
    "        return(len(odd_nums),even_nums)\n",
    "\n",
    "nums = [1,2,2,4,3]\n",
    "print(adj_sum_even(nums))\n"
   ]
  }
 ],
 "metadata": {
  "kernelspec": {
   "display_name": "Python 3",
   "language": "python",
   "name": "python3"
  },
  "language_info": {
   "codemirror_mode": {
    "name": "ipython",
    "version": 3
   },
   "file_extension": ".py",
   "mimetype": "text/x-python",
   "name": "python",
   "nbconvert_exporter": "python",
   "pygments_lexer": "ipython3",
   "version": "3.6.5"
  }
 },
 "nbformat": 4,
 "nbformat_minor": 2
}
