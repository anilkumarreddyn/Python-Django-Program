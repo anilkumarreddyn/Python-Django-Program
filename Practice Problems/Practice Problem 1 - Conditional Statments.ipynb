{
 "cells": [
  {
   "cell_type": "markdown",
   "metadata": {},
   "source": [
    "1.Given two numbers, print their sum. However, if the two numbers are the same, return double their sum.\n"
   ]
  },
  {
   "cell_type": "markdown",
   "metadata": {},
   "source": [
    "2.Given a Cost price and Selling price of a product,write program to calculate profit or loss\t"
   ]
  },
  {
   "cell_type": "markdown",
   "metadata": {},
   "source": [
    "3.Write a program to input basic salary of an employee and calculate gross salary according to given conditions.\n",
    "Basic Salary <= 10000 : HRA = 20%, DA = 80%\n",
    "Basic Salary is between 10001 to 20000 : HRA = 25%, DA = 90%\n",
    "Basic Salary >= 20001 : HRA = 30%, DA = 95% "
   ]
  },
  {
   "cell_type": "markdown",
   "metadata": {},
   "source": [
    "4.Write a program to check if given year is leap year or not.\n",
    "\n",
    "\tLeap year : A year is said to be leap year, if the year is exactly divisible by 4 but and not divisible by 100"
   ]
  },
  {
   "cell_type": "markdown",
   "metadata": {},
   "source": [
    "5.Write a program to check whether triangle is equilateral, scalene or isosceles\n",
    "\tA triangle is said Equilateral Triangle, if all its sides are equal. If a, b, c are three sides of triangle. Then, \tthe triangle is equilateral only if a == b == c.\n",
    "\n",
    "\tA triangle is said Isosceles Triangle, if its two sides are equal. If a, b, c are three sides of triangle. Then, the \ttriangle is isosceles if either a == b or a == c or b == c.\n",
    "\n",
    "\tA triangle is said Scalene Triangle, if none of its sides are equal. "
   ]
  }
 ],
 "metadata": {
  "kernelspec": {
   "display_name": "Python 3",
   "language": "python",
   "name": "python3"
  },
  "language_info": {
   "codemirror_mode": {
    "name": "ipython",
    "version": 3
   },
   "file_extension": ".py",
   "mimetype": "text/x-python",
   "name": "python",
   "nbconvert_exporter": "python",
   "pygments_lexer": "ipython3",
   "version": "3.6.5"
  }
 },
 "nbformat": 4,
 "nbformat_minor": 2
}
