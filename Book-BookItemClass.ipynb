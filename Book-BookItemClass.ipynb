{
 "cells": [
  {
   "cell_type": "code",
   "execution_count": 41,
   "metadata": {},
   "outputs": [],
   "source": [
    "class BookItem:\n",
    "    def __init__(self,book,isbn,rack):\n",
    "        self.book = book\n",
    "        self.isbn = isbn\n",
    "        self.rack = rack\n",
    "\n",
    "class Book:\n",
    "    def __init__(self,name,author,publish_date,pages):\n",
    "        self.name = name\n",
    "        self.author = author\n",
    "        self.publish_date = publish_date\n",
    "        self.pages = pages\n",
    "        self.total_count = 0\n",
    "        self.book_item = []\n",
    "        \n",
    "    def addBookItem(self,isbn,rack):\n",
    "        b = BookItem(self,isbn,rack)\n",
    "        self.book_item.append(b)\n",
    "        self.total_count +=1\n",
    "        \n",
    "    def printBook(self):\n",
    "        print (self.name,self.author)\n",
    "        for book_item in self.book_item:\n",
    "            print (book_item.isbn)"
   ]
  },
  {
   "cell_type": "code",
   "execution_count": 42,
   "metadata": {},
   "outputs": [],
   "source": [
    "b1 = Book('Shoe Dog','Phil Knight', '2015',312)"
   ]
  },
  {
   "cell_type": "code",
   "execution_count": 43,
   "metadata": {},
   "outputs": [],
   "source": [
    "b1.addBookItem('123hg','H1B2')"
   ]
  },
  {
   "cell_type": "code",
   "execution_count": 44,
   "metadata": {},
   "outputs": [],
   "source": [
    "b1.addBookItem('124hg','H1B3')"
   ]
  },
  {
   "cell_type": "code",
   "execution_count": 45,
   "metadata": {},
   "outputs": [
    {
     "name": "stdout",
     "output_type": "stream",
     "text": [
      "Shoe Dog Phil Knight\n",
      "123hg\n",
      "124hg\n"
     ]
    }
   ],
   "source": [
    "b1.printBook()"
   ]
  },
  {
   "cell_type": "code",
   "execution_count": 46,
   "metadata": {},
   "outputs": [
    {
     "data": {
      "text/plain": [
       "'123hg'"
      ]
     },
     "execution_count": 46,
     "metadata": {},
     "output_type": "execute_result"
    }
   ],
   "source": [
    "b1.__dict__['book_item'][0].isbn"
   ]
  },
  {
   "cell_type": "code",
   "execution_count": 47,
   "metadata": {},
   "outputs": [
    {
     "data": {
      "text/plain": [
       "{'name': 'Shoe Dog',\n",
       " 'author': 'Phil Knight',\n",
       " 'publish_date': '2015',\n",
       " 'pages': 312,\n",
       " 'total_count': 2,\n",
       " 'book_item': [<__main__.BookItem at 0x7fa13062fa20>,\n",
       "  <__main__.BookItem at 0x7fa13062f5f8>]}"
      ]
     },
     "execution_count": 47,
     "metadata": {},
     "output_type": "execute_result"
    }
   ],
   "source": [
    "b1.__dict__"
   ]
  },
  {
   "cell_type": "code",
   "execution_count": 48,
   "metadata": {},
   "outputs": [],
   "source": [
    "\\"
   ]
  },
  {
   "cell_type": "code",
   "execution_count": null,
   "metadata": {},
   "outputs": [],
   "source": []
  }
 ],
 "metadata": {
  "kernelspec": {
   "display_name": "Python 3",
   "language": "python",
   "name": "python3"
  },
  "language_info": {
   "codemirror_mode": {
    "name": "ipython",
    "version": 3
   },
   "file_extension": ".py",
   "mimetype": "text/x-python",
   "name": "python",
   "nbconvert_exporter": "python",
   "pygments_lexer": "ipython3",
   "version": "3.7.3"
  }
 },
 "nbformat": 4,
 "nbformat_minor": 2
}
